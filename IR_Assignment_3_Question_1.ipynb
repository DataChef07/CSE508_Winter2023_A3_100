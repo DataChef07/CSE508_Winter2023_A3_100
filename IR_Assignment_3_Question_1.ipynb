{
  "nbformat": 4,
  "nbformat_minor": 0,
  "metadata": {
    "colab": {
      "provenance": []
    },
    "kernelspec": {
      "name": "python3",
      "display_name": "Python 3"
    },
    "language_info": {
      "name": "python"
    }
  },
  "cells": [
    {
      "cell_type": "code",
      "execution_count": null,
      "metadata": {
        "id": "MjeV_bMFCW_n"
      },
      "outputs": [],
      "source": [
        "# importing libraries\n",
        "import pandas as pd\n",
        "import numpy as np\n",
        "import matplotlib.pyplot as plt"
      ]
    },
    {
      "cell_type": "code",
      "source": [
        "# loading the dataset and displaying it\n",
        "df=pd.read_csv(\"/content/IR_Dataset_Assignment_3.txt\", sep=\" \", header=None, names=[\"source\", \"destination\", \"time\"])\n",
        "df"
      ],
      "metadata": {
        "colab": {
          "base_uri": "https://localhost:8080/",
          "height": 423
        },
        "id": "PzozjgLHHIiw",
        "outputId": "e0ad2f2f-0f47-4ab8-c105-8d003a3ce30f"
      },
      "execution_count": null,
      "outputs": [
        {
          "output_type": "execute_result",
          "data": {
            "text/plain": [
              "       source  destination      time\n",
              "0         163          164     24892\n",
              "1         163          123     24892\n",
              "2         163          147     24892\n",
              "3         163           75     24892\n",
              "4         134          145     26648\n",
              "...       ...          ...       ...\n",
              "46767     168          135  45314032\n",
              "46768       9           56  45320940\n",
              "46769      56          135  45321233\n",
              "46770      56          135  45321386\n",
              "46771      56            9  45325488\n",
              "\n",
              "[46772 rows x 3 columns]"
            ],
            "text/html": [
              "\n",
              "  <div id=\"df-5bdbf7d5-5c7b-4449-9fd1-d4e5eb3dee47\">\n",
              "    <div class=\"colab-df-container\">\n",
              "      <div>\n",
              "<style scoped>\n",
              "    .dataframe tbody tr th:only-of-type {\n",
              "        vertical-align: middle;\n",
              "    }\n",
              "\n",
              "    .dataframe tbody tr th {\n",
              "        vertical-align: top;\n",
              "    }\n",
              "\n",
              "    .dataframe thead th {\n",
              "        text-align: right;\n",
              "    }\n",
              "</style>\n",
              "<table border=\"1\" class=\"dataframe\">\n",
              "  <thead>\n",
              "    <tr style=\"text-align: right;\">\n",
              "      <th></th>\n",
              "      <th>source</th>\n",
              "      <th>destination</th>\n",
              "      <th>time</th>\n",
              "    </tr>\n",
              "  </thead>\n",
              "  <tbody>\n",
              "    <tr>\n",
              "      <th>0</th>\n",
              "      <td>163</td>\n",
              "      <td>164</td>\n",
              "      <td>24892</td>\n",
              "    </tr>\n",
              "    <tr>\n",
              "      <th>1</th>\n",
              "      <td>163</td>\n",
              "      <td>123</td>\n",
              "      <td>24892</td>\n",
              "    </tr>\n",
              "    <tr>\n",
              "      <th>2</th>\n",
              "      <td>163</td>\n",
              "      <td>147</td>\n",
              "      <td>24892</td>\n",
              "    </tr>\n",
              "    <tr>\n",
              "      <th>3</th>\n",
              "      <td>163</td>\n",
              "      <td>75</td>\n",
              "      <td>24892</td>\n",
              "    </tr>\n",
              "    <tr>\n",
              "      <th>4</th>\n",
              "      <td>134</td>\n",
              "      <td>145</td>\n",
              "      <td>26648</td>\n",
              "    </tr>\n",
              "    <tr>\n",
              "      <th>...</th>\n",
              "      <td>...</td>\n",
              "      <td>...</td>\n",
              "      <td>...</td>\n",
              "    </tr>\n",
              "    <tr>\n",
              "      <th>46767</th>\n",
              "      <td>168</td>\n",
              "      <td>135</td>\n",
              "      <td>45314032</td>\n",
              "    </tr>\n",
              "    <tr>\n",
              "      <th>46768</th>\n",
              "      <td>9</td>\n",
              "      <td>56</td>\n",
              "      <td>45320940</td>\n",
              "    </tr>\n",
              "    <tr>\n",
              "      <th>46769</th>\n",
              "      <td>56</td>\n",
              "      <td>135</td>\n",
              "      <td>45321233</td>\n",
              "    </tr>\n",
              "    <tr>\n",
              "      <th>46770</th>\n",
              "      <td>56</td>\n",
              "      <td>135</td>\n",
              "      <td>45321386</td>\n",
              "    </tr>\n",
              "    <tr>\n",
              "      <th>46771</th>\n",
              "      <td>56</td>\n",
              "      <td>9</td>\n",
              "      <td>45325488</td>\n",
              "    </tr>\n",
              "  </tbody>\n",
              "</table>\n",
              "<p>46772 rows × 3 columns</p>\n",
              "</div>\n",
              "      <button class=\"colab-df-convert\" onclick=\"convertToInteractive('df-5bdbf7d5-5c7b-4449-9fd1-d4e5eb3dee47')\"\n",
              "              title=\"Convert this dataframe to an interactive table.\"\n",
              "              style=\"display:none;\">\n",
              "        \n",
              "  <svg xmlns=\"http://www.w3.org/2000/svg\" height=\"24px\"viewBox=\"0 0 24 24\"\n",
              "       width=\"24px\">\n",
              "    <path d=\"M0 0h24v24H0V0z\" fill=\"none\"/>\n",
              "    <path d=\"M18.56 5.44l.94 2.06.94-2.06 2.06-.94-2.06-.94-.94-2.06-.94 2.06-2.06.94zm-11 1L8.5 8.5l.94-2.06 2.06-.94-2.06-.94L8.5 2.5l-.94 2.06-2.06.94zm10 10l.94 2.06.94-2.06 2.06-.94-2.06-.94-.94-2.06-.94 2.06-2.06.94z\"/><path d=\"M17.41 7.96l-1.37-1.37c-.4-.4-.92-.59-1.43-.59-.52 0-1.04.2-1.43.59L10.3 9.45l-7.72 7.72c-.78.78-.78 2.05 0 2.83L4 21.41c.39.39.9.59 1.41.59.51 0 1.02-.2 1.41-.59l7.78-7.78 2.81-2.81c.8-.78.8-2.07 0-2.86zM5.41 20L4 18.59l7.72-7.72 1.47 1.35L5.41 20z\"/>\n",
              "  </svg>\n",
              "      </button>\n",
              "      \n",
              "  <style>\n",
              "    .colab-df-container {\n",
              "      display:flex;\n",
              "      flex-wrap:wrap;\n",
              "      gap: 12px;\n",
              "    }\n",
              "\n",
              "    .colab-df-convert {\n",
              "      background-color: #E8F0FE;\n",
              "      border: none;\n",
              "      border-radius: 50%;\n",
              "      cursor: pointer;\n",
              "      display: none;\n",
              "      fill: #1967D2;\n",
              "      height: 32px;\n",
              "      padding: 0 0 0 0;\n",
              "      width: 32px;\n",
              "    }\n",
              "\n",
              "    .colab-df-convert:hover {\n",
              "      background-color: #E2EBFA;\n",
              "      box-shadow: 0px 1px 2px rgba(60, 64, 67, 0.3), 0px 1px 3px 1px rgba(60, 64, 67, 0.15);\n",
              "      fill: #174EA6;\n",
              "    }\n",
              "\n",
              "    [theme=dark] .colab-df-convert {\n",
              "      background-color: #3B4455;\n",
              "      fill: #D2E3FC;\n",
              "    }\n",
              "\n",
              "    [theme=dark] .colab-df-convert:hover {\n",
              "      background-color: #434B5C;\n",
              "      box-shadow: 0px 1px 3px 1px rgba(0, 0, 0, 0.15);\n",
              "      filter: drop-shadow(0px 1px 2px rgba(0, 0, 0, 0.3));\n",
              "      fill: #FFFFFF;\n",
              "    }\n",
              "  </style>\n",
              "\n",
              "      <script>\n",
              "        const buttonEl =\n",
              "          document.querySelector('#df-5bdbf7d5-5c7b-4449-9fd1-d4e5eb3dee47 button.colab-df-convert');\n",
              "        buttonEl.style.display =\n",
              "          google.colab.kernel.accessAllowed ? 'block' : 'none';\n",
              "\n",
              "        async function convertToInteractive(key) {\n",
              "          const element = document.querySelector('#df-5bdbf7d5-5c7b-4449-9fd1-d4e5eb3dee47');\n",
              "          const dataTable =\n",
              "            await google.colab.kernel.invokeFunction('convertToInteractive',\n",
              "                                                     [key], {});\n",
              "          if (!dataTable) return;\n",
              "\n",
              "          const docLinkHtml = 'Like what you see? Visit the ' +\n",
              "            '<a target=\"_blank\" href=https://colab.research.google.com/notebooks/data_table.ipynb>data table notebook</a>'\n",
              "            + ' to learn more about interactive tables.';\n",
              "          element.innerHTML = '';\n",
              "          dataTable['output_type'] = 'display_data';\n",
              "          await google.colab.output.renderOutput(dataTable, element);\n",
              "          const docLink = document.createElement('div');\n",
              "          docLink.innerHTML = docLinkHtml;\n",
              "          element.appendChild(docLink);\n",
              "        }\n",
              "      </script>\n",
              "    </div>\n",
              "  </div>\n",
              "  "
            ]
          },
          "metadata": {},
          "execution_count": 2
        }
      ]
    },
    {
      "cell_type": "code",
      "source": [
        "# dropping the unnecessary column and displaying it\n",
        "df.drop([\"time\"], axis = 1, inplace = True)\n",
        "df"
      ],
      "metadata": {
        "colab": {
          "base_uri": "https://localhost:8080/",
          "height": 423
        },
        "id": "90a1-X1SHhyJ",
        "outputId": "bad8aa22-af37-4702-bee5-f48e7bcae34e"
      },
      "execution_count": null,
      "outputs": [
        {
          "output_type": "execute_result",
          "data": {
            "text/plain": [
              "       source  destination\n",
              "0         163          164\n",
              "1         163          123\n",
              "2         163          147\n",
              "3         163           75\n",
              "4         134          145\n",
              "...       ...          ...\n",
              "46767     168          135\n",
              "46768       9           56\n",
              "46769      56          135\n",
              "46770      56          135\n",
              "46771      56            9\n",
              "\n",
              "[46772 rows x 2 columns]"
            ],
            "text/html": [
              "\n",
              "  <div id=\"df-cfec9682-bc07-428b-87d5-95b79592509f\">\n",
              "    <div class=\"colab-df-container\">\n",
              "      <div>\n",
              "<style scoped>\n",
              "    .dataframe tbody tr th:only-of-type {\n",
              "        vertical-align: middle;\n",
              "    }\n",
              "\n",
              "    .dataframe tbody tr th {\n",
              "        vertical-align: top;\n",
              "    }\n",
              "\n",
              "    .dataframe thead th {\n",
              "        text-align: right;\n",
              "    }\n",
              "</style>\n",
              "<table border=\"1\" class=\"dataframe\">\n",
              "  <thead>\n",
              "    <tr style=\"text-align: right;\">\n",
              "      <th></th>\n",
              "      <th>source</th>\n",
              "      <th>destination</th>\n",
              "    </tr>\n",
              "  </thead>\n",
              "  <tbody>\n",
              "    <tr>\n",
              "      <th>0</th>\n",
              "      <td>163</td>\n",
              "      <td>164</td>\n",
              "    </tr>\n",
              "    <tr>\n",
              "      <th>1</th>\n",
              "      <td>163</td>\n",
              "      <td>123</td>\n",
              "    </tr>\n",
              "    <tr>\n",
              "      <th>2</th>\n",
              "      <td>163</td>\n",
              "      <td>147</td>\n",
              "    </tr>\n",
              "    <tr>\n",
              "      <th>3</th>\n",
              "      <td>163</td>\n",
              "      <td>75</td>\n",
              "    </tr>\n",
              "    <tr>\n",
              "      <th>4</th>\n",
              "      <td>134</td>\n",
              "      <td>145</td>\n",
              "    </tr>\n",
              "    <tr>\n",
              "      <th>...</th>\n",
              "      <td>...</td>\n",
              "      <td>...</td>\n",
              "    </tr>\n",
              "    <tr>\n",
              "      <th>46767</th>\n",
              "      <td>168</td>\n",
              "      <td>135</td>\n",
              "    </tr>\n",
              "    <tr>\n",
              "      <th>46768</th>\n",
              "      <td>9</td>\n",
              "      <td>56</td>\n",
              "    </tr>\n",
              "    <tr>\n",
              "      <th>46769</th>\n",
              "      <td>56</td>\n",
              "      <td>135</td>\n",
              "    </tr>\n",
              "    <tr>\n",
              "      <th>46770</th>\n",
              "      <td>56</td>\n",
              "      <td>135</td>\n",
              "    </tr>\n",
              "    <tr>\n",
              "      <th>46771</th>\n",
              "      <td>56</td>\n",
              "      <td>9</td>\n",
              "    </tr>\n",
              "  </tbody>\n",
              "</table>\n",
              "<p>46772 rows × 2 columns</p>\n",
              "</div>\n",
              "      <button class=\"colab-df-convert\" onclick=\"convertToInteractive('df-cfec9682-bc07-428b-87d5-95b79592509f')\"\n",
              "              title=\"Convert this dataframe to an interactive table.\"\n",
              "              style=\"display:none;\">\n",
              "        \n",
              "  <svg xmlns=\"http://www.w3.org/2000/svg\" height=\"24px\"viewBox=\"0 0 24 24\"\n",
              "       width=\"24px\">\n",
              "    <path d=\"M0 0h24v24H0V0z\" fill=\"none\"/>\n",
              "    <path d=\"M18.56 5.44l.94 2.06.94-2.06 2.06-.94-2.06-.94-.94-2.06-.94 2.06-2.06.94zm-11 1L8.5 8.5l.94-2.06 2.06-.94-2.06-.94L8.5 2.5l-.94 2.06-2.06.94zm10 10l.94 2.06.94-2.06 2.06-.94-2.06-.94-.94-2.06-.94 2.06-2.06.94z\"/><path d=\"M17.41 7.96l-1.37-1.37c-.4-.4-.92-.59-1.43-.59-.52 0-1.04.2-1.43.59L10.3 9.45l-7.72 7.72c-.78.78-.78 2.05 0 2.83L4 21.41c.39.39.9.59 1.41.59.51 0 1.02-.2 1.41-.59l7.78-7.78 2.81-2.81c.8-.78.8-2.07 0-2.86zM5.41 20L4 18.59l7.72-7.72 1.47 1.35L5.41 20z\"/>\n",
              "  </svg>\n",
              "      </button>\n",
              "      \n",
              "  <style>\n",
              "    .colab-df-container {\n",
              "      display:flex;\n",
              "      flex-wrap:wrap;\n",
              "      gap: 12px;\n",
              "    }\n",
              "\n",
              "    .colab-df-convert {\n",
              "      background-color: #E8F0FE;\n",
              "      border: none;\n",
              "      border-radius: 50%;\n",
              "      cursor: pointer;\n",
              "      display: none;\n",
              "      fill: #1967D2;\n",
              "      height: 32px;\n",
              "      padding: 0 0 0 0;\n",
              "      width: 32px;\n",
              "    }\n",
              "\n",
              "    .colab-df-convert:hover {\n",
              "      background-color: #E2EBFA;\n",
              "      box-shadow: 0px 1px 2px rgba(60, 64, 67, 0.3), 0px 1px 3px 1px rgba(60, 64, 67, 0.15);\n",
              "      fill: #174EA6;\n",
              "    }\n",
              "\n",
              "    [theme=dark] .colab-df-convert {\n",
              "      background-color: #3B4455;\n",
              "      fill: #D2E3FC;\n",
              "    }\n",
              "\n",
              "    [theme=dark] .colab-df-convert:hover {\n",
              "      background-color: #434B5C;\n",
              "      box-shadow: 0px 1px 3px 1px rgba(0, 0, 0, 0.15);\n",
              "      filter: drop-shadow(0px 1px 2px rgba(0, 0, 0, 0.3));\n",
              "      fill: #FFFFFF;\n",
              "    }\n",
              "  </style>\n",
              "\n",
              "      <script>\n",
              "        const buttonEl =\n",
              "          document.querySelector('#df-cfec9682-bc07-428b-87d5-95b79592509f button.colab-df-convert');\n",
              "        buttonEl.style.display =\n",
              "          google.colab.kernel.accessAllowed ? 'block' : 'none';\n",
              "\n",
              "        async function convertToInteractive(key) {\n",
              "          const element = document.querySelector('#df-cfec9682-bc07-428b-87d5-95b79592509f');\n",
              "          const dataTable =\n",
              "            await google.colab.kernel.invokeFunction('convertToInteractive',\n",
              "                                                     [key], {});\n",
              "          if (!dataTable) return;\n",
              "\n",
              "          const docLinkHtml = 'Like what you see? Visit the ' +\n",
              "            '<a target=\"_blank\" href=https://colab.research.google.com/notebooks/data_table.ipynb>data table notebook</a>'\n",
              "            + ' to learn more about interactive tables.';\n",
              "          element.innerHTML = '';\n",
              "          dataTable['output_type'] = 'display_data';\n",
              "          await google.colab.output.renderOutput(dataTable, element);\n",
              "          const docLink = document.createElement('div');\n",
              "          docLink.innerHTML = docLinkHtml;\n",
              "          element.appendChild(docLink);\n",
              "        }\n",
              "      </script>\n",
              "    </div>\n",
              "  </div>\n",
              "  "
            ]
          },
          "metadata": {},
          "execution_count": 3
        }
      ]
    },
    {
      "cell_type": "code",
      "source": [
        "# taking the source and destination unique values from the dataframe into 2 lists - src, des and finally displaying them\n",
        "src = df.source.unique().tolist()\n",
        "des = df.destination.unique().tolist()\n",
        "print(\"source nodes ===> \" + str(src))\n",
        "print(\"destination nodes ===> \" + str(des))"
      ],
      "metadata": {
        "colab": {
          "base_uri": "https://localhost:8080/"
        },
        "id": "DaCgSHcmHtXB",
        "outputId": "7cbab1e3-aab6-4fef-d67d-b0021d337dd7"
      },
      "execution_count": null,
      "outputs": [
        {
          "output_type": "stream",
          "name": "stdout",
          "text": [
            "source nodes ===> [163, 134, 164, 147, 171, 169, 122, 144, 145, 75, 28, 123, 119, 114, 0, 98, 161, 70, 62, 81, 130, 137, 127, 35, 86, 165, 33, 154, 66, 141, 82, 64, 3, 39, 52, 47, 104, 60, 5, 72, 92, 14, 115, 138, 53, 22, 23, 7, 140, 27, 71, 46, 80, 51, 156, 77, 155, 44, 36, 152, 126, 11, 84, 49, 42, 158, 26, 139, 41, 58, 73, 150, 37, 117, 55, 45, 99, 102, 61, 90, 24, 68, 65, 91, 40, 57, 146, 2, 63, 142, 76, 157, 10, 97, 153, 78, 94, 167, 43, 30, 32, 148, 151, 18, 15, 170, 124, 54, 74, 50, 107, 116, 100, 96, 19, 21, 101, 135, 56, 111, 168, 9, 85, 121, 132, 87, 89, 103, 160, 143, 48, 31]\n",
            "destination nodes ===> [164, 123, 147, 75, 145, 163, 169, 144, 119, 171, 122, 28, 134, 0, 70, 161, 114, 128, 98, 159, 25, 62, 81, 165, 82, 52, 137, 130, 5, 14, 60, 127, 35, 66, 154, 39, 104, 47, 3, 86, 64, 33, 72, 141, 92, 79, 125, 138, 115, 6, 133, 83, 13, 53, 22, 156, 80, 7, 155, 36, 27, 126, 46, 69, 51, 152, 44, 11, 71, 12, 23, 140, 49, 93, 162, 136, 158, 42, 139, 26, 41, 112, 73, 45, 58, 37, 150, 117, 99, 55, 105, 61, 90, 4, 153, 91, 167, 78, 24, 30, 2, 142, 146, 65, 97, 63, 76, 157, 10, 40, 43, 68, 94, 106, 59, 57, 18, 118, 151, 113, 148, 166, 15, 170, 124, 54, 74, 110, 107, 116, 29, 120, 96, 21, 108, 101, 168, 135, 56, 89, 111, 9, 85, 121, 87, 88, 132, 103, 67, 1, 160, 48, 31, 20]\n"
          ]
        }
      ]
    },
    {
      "cell_type": "code",
      "source": [
        "len(src)        # displaying the length of src list "
      ],
      "metadata": {
        "colab": {
          "base_uri": "https://localhost:8080/"
        },
        "id": "osxgrDmSfvFH",
        "outputId": "c5272345-3db2-4140-8363-318c511e4e4a"
      },
      "execution_count": null,
      "outputs": [
        {
          "output_type": "execute_result",
          "data": {
            "text/plain": [
              "132"
            ]
          },
          "metadata": {},
          "execution_count": 5
        }
      ]
    },
    {
      "cell_type": "code",
      "source": [
        "len(des)        # displaying the length of des list"
      ],
      "metadata": {
        "colab": {
          "base_uri": "https://localhost:8080/"
        },
        "id": "ISWNAKbWfeBS",
        "outputId": "1544eb5b-f461-4221-d377-bd5d2a6465d1"
      },
      "execution_count": null,
      "outputs": [
        {
          "output_type": "execute_result",
          "data": {
            "text/plain": [
              "154"
            ]
          },
          "metadata": {},
          "execution_count": 6
        }
      ]
    },
    {
      "cell_type": "code",
      "source": [
        "# creating a dataframe with rows as src list values and columns as des list values and the dataframe is filled with 0 and finally displaying it\n",
        "matrix = pd.DataFrame(0, index=np.arange(len(src)), columns=des)\n",
        "matrix.index = src\n",
        "matrix\n",
        "\n",
        "# reference = https://stackoverflow.com/questions/62827210/adding-rows-of-zeros-in-pandas "
      ],
      "metadata": {
        "colab": {
          "base_uri": "https://localhost:8080/",
          "height": 423
        },
        "id": "sfSqMUplI32R",
        "outputId": "9ea1f9c3-a594-4f60-b8e5-4ee3f5e8f4bf"
      },
      "execution_count": null,
      "outputs": [
        {
          "output_type": "execute_result",
          "data": {
            "text/plain": [
              "     164  123  147  75   145  163  169  144  119  171  ...  87   88   132  \\\n",
              "163    0    0    0    0    0    0    0    0    0    0  ...    0    0    0   \n",
              "134    0    0    0    0    0    0    0    0    0    0  ...    0    0    0   \n",
              "164    0    0    0    0    0    0    0    0    0    0  ...    0    0    0   \n",
              "147    0    0    0    0    0    0    0    0    0    0  ...    0    0    0   \n",
              "171    0    0    0    0    0    0    0    0    0    0  ...    0    0    0   \n",
              "..   ...  ...  ...  ...  ...  ...  ...  ...  ...  ...  ...  ...  ...  ...   \n",
              "103    0    0    0    0    0    0    0    0    0    0  ...    0    0    0   \n",
              "160    0    0    0    0    0    0    0    0    0    0  ...    0    0    0   \n",
              "143    0    0    0    0    0    0    0    0    0    0  ...    0    0    0   \n",
              "48     0    0    0    0    0    0    0    0    0    0  ...    0    0    0   \n",
              "31     0    0    0    0    0    0    0    0    0    0  ...    0    0    0   \n",
              "\n",
              "     103  67   1    160  48   31   20   \n",
              "163    0    0    0    0    0    0    0  \n",
              "134    0    0    0    0    0    0    0  \n",
              "164    0    0    0    0    0    0    0  \n",
              "147    0    0    0    0    0    0    0  \n",
              "171    0    0    0    0    0    0    0  \n",
              "..   ...  ...  ...  ...  ...  ...  ...  \n",
              "103    0    0    0    0    0    0    0  \n",
              "160    0    0    0    0    0    0    0  \n",
              "143    0    0    0    0    0    0    0  \n",
              "48     0    0    0    0    0    0    0  \n",
              "31     0    0    0    0    0    0    0  \n",
              "\n",
              "[132 rows x 154 columns]"
            ],
            "text/html": [
              "\n",
              "  <div id=\"df-3f2ee0e4-1814-4907-989a-3271012b63a9\">\n",
              "    <div class=\"colab-df-container\">\n",
              "      <div>\n",
              "<style scoped>\n",
              "    .dataframe tbody tr th:only-of-type {\n",
              "        vertical-align: middle;\n",
              "    }\n",
              "\n",
              "    .dataframe tbody tr th {\n",
              "        vertical-align: top;\n",
              "    }\n",
              "\n",
              "    .dataframe thead th {\n",
              "        text-align: right;\n",
              "    }\n",
              "</style>\n",
              "<table border=\"1\" class=\"dataframe\">\n",
              "  <thead>\n",
              "    <tr style=\"text-align: right;\">\n",
              "      <th></th>\n",
              "      <th>164</th>\n",
              "      <th>123</th>\n",
              "      <th>147</th>\n",
              "      <th>75</th>\n",
              "      <th>145</th>\n",
              "      <th>163</th>\n",
              "      <th>169</th>\n",
              "      <th>144</th>\n",
              "      <th>119</th>\n",
              "      <th>171</th>\n",
              "      <th>...</th>\n",
              "      <th>87</th>\n",
              "      <th>88</th>\n",
              "      <th>132</th>\n",
              "      <th>103</th>\n",
              "      <th>67</th>\n",
              "      <th>1</th>\n",
              "      <th>160</th>\n",
              "      <th>48</th>\n",
              "      <th>31</th>\n",
              "      <th>20</th>\n",
              "    </tr>\n",
              "  </thead>\n",
              "  <tbody>\n",
              "    <tr>\n",
              "      <th>163</th>\n",
              "      <td>0</td>\n",
              "      <td>0</td>\n",
              "      <td>0</td>\n",
              "      <td>0</td>\n",
              "      <td>0</td>\n",
              "      <td>0</td>\n",
              "      <td>0</td>\n",
              "      <td>0</td>\n",
              "      <td>0</td>\n",
              "      <td>0</td>\n",
              "      <td>...</td>\n",
              "      <td>0</td>\n",
              "      <td>0</td>\n",
              "      <td>0</td>\n",
              "      <td>0</td>\n",
              "      <td>0</td>\n",
              "      <td>0</td>\n",
              "      <td>0</td>\n",
              "      <td>0</td>\n",
              "      <td>0</td>\n",
              "      <td>0</td>\n",
              "    </tr>\n",
              "    <tr>\n",
              "      <th>134</th>\n",
              "      <td>0</td>\n",
              "      <td>0</td>\n",
              "      <td>0</td>\n",
              "      <td>0</td>\n",
              "      <td>0</td>\n",
              "      <td>0</td>\n",
              "      <td>0</td>\n",
              "      <td>0</td>\n",
              "      <td>0</td>\n",
              "      <td>0</td>\n",
              "      <td>...</td>\n",
              "      <td>0</td>\n",
              "      <td>0</td>\n",
              "      <td>0</td>\n",
              "      <td>0</td>\n",
              "      <td>0</td>\n",
              "      <td>0</td>\n",
              "      <td>0</td>\n",
              "      <td>0</td>\n",
              "      <td>0</td>\n",
              "      <td>0</td>\n",
              "    </tr>\n",
              "    <tr>\n",
              "      <th>164</th>\n",
              "      <td>0</td>\n",
              "      <td>0</td>\n",
              "      <td>0</td>\n",
              "      <td>0</td>\n",
              "      <td>0</td>\n",
              "      <td>0</td>\n",
              "      <td>0</td>\n",
              "      <td>0</td>\n",
              "      <td>0</td>\n",
              "      <td>0</td>\n",
              "      <td>...</td>\n",
              "      <td>0</td>\n",
              "      <td>0</td>\n",
              "      <td>0</td>\n",
              "      <td>0</td>\n",
              "      <td>0</td>\n",
              "      <td>0</td>\n",
              "      <td>0</td>\n",
              "      <td>0</td>\n",
              "      <td>0</td>\n",
              "      <td>0</td>\n",
              "    </tr>\n",
              "    <tr>\n",
              "      <th>147</th>\n",
              "      <td>0</td>\n",
              "      <td>0</td>\n",
              "      <td>0</td>\n",
              "      <td>0</td>\n",
              "      <td>0</td>\n",
              "      <td>0</td>\n",
              "      <td>0</td>\n",
              "      <td>0</td>\n",
              "      <td>0</td>\n",
              "      <td>0</td>\n",
              "      <td>...</td>\n",
              "      <td>0</td>\n",
              "      <td>0</td>\n",
              "      <td>0</td>\n",
              "      <td>0</td>\n",
              "      <td>0</td>\n",
              "      <td>0</td>\n",
              "      <td>0</td>\n",
              "      <td>0</td>\n",
              "      <td>0</td>\n",
              "      <td>0</td>\n",
              "    </tr>\n",
              "    <tr>\n",
              "      <th>171</th>\n",
              "      <td>0</td>\n",
              "      <td>0</td>\n",
              "      <td>0</td>\n",
              "      <td>0</td>\n",
              "      <td>0</td>\n",
              "      <td>0</td>\n",
              "      <td>0</td>\n",
              "      <td>0</td>\n",
              "      <td>0</td>\n",
              "      <td>0</td>\n",
              "      <td>...</td>\n",
              "      <td>0</td>\n",
              "      <td>0</td>\n",
              "      <td>0</td>\n",
              "      <td>0</td>\n",
              "      <td>0</td>\n",
              "      <td>0</td>\n",
              "      <td>0</td>\n",
              "      <td>0</td>\n",
              "      <td>0</td>\n",
              "      <td>0</td>\n",
              "    </tr>\n",
              "    <tr>\n",
              "      <th>...</th>\n",
              "      <td>...</td>\n",
              "      <td>...</td>\n",
              "      <td>...</td>\n",
              "      <td>...</td>\n",
              "      <td>...</td>\n",
              "      <td>...</td>\n",
              "      <td>...</td>\n",
              "      <td>...</td>\n",
              "      <td>...</td>\n",
              "      <td>...</td>\n",
              "      <td>...</td>\n",
              "      <td>...</td>\n",
              "      <td>...</td>\n",
              "      <td>...</td>\n",
              "      <td>...</td>\n",
              "      <td>...</td>\n",
              "      <td>...</td>\n",
              "      <td>...</td>\n",
              "      <td>...</td>\n",
              "      <td>...</td>\n",
              "      <td>...</td>\n",
              "    </tr>\n",
              "    <tr>\n",
              "      <th>103</th>\n",
              "      <td>0</td>\n",
              "      <td>0</td>\n",
              "      <td>0</td>\n",
              "      <td>0</td>\n",
              "      <td>0</td>\n",
              "      <td>0</td>\n",
              "      <td>0</td>\n",
              "      <td>0</td>\n",
              "      <td>0</td>\n",
              "      <td>0</td>\n",
              "      <td>...</td>\n",
              "      <td>0</td>\n",
              "      <td>0</td>\n",
              "      <td>0</td>\n",
              "      <td>0</td>\n",
              "      <td>0</td>\n",
              "      <td>0</td>\n",
              "      <td>0</td>\n",
              "      <td>0</td>\n",
              "      <td>0</td>\n",
              "      <td>0</td>\n",
              "    </tr>\n",
              "    <tr>\n",
              "      <th>160</th>\n",
              "      <td>0</td>\n",
              "      <td>0</td>\n",
              "      <td>0</td>\n",
              "      <td>0</td>\n",
              "      <td>0</td>\n",
              "      <td>0</td>\n",
              "      <td>0</td>\n",
              "      <td>0</td>\n",
              "      <td>0</td>\n",
              "      <td>0</td>\n",
              "      <td>...</td>\n",
              "      <td>0</td>\n",
              "      <td>0</td>\n",
              "      <td>0</td>\n",
              "      <td>0</td>\n",
              "      <td>0</td>\n",
              "      <td>0</td>\n",
              "      <td>0</td>\n",
              "      <td>0</td>\n",
              "      <td>0</td>\n",
              "      <td>0</td>\n",
              "    </tr>\n",
              "    <tr>\n",
              "      <th>143</th>\n",
              "      <td>0</td>\n",
              "      <td>0</td>\n",
              "      <td>0</td>\n",
              "      <td>0</td>\n",
              "      <td>0</td>\n",
              "      <td>0</td>\n",
              "      <td>0</td>\n",
              "      <td>0</td>\n",
              "      <td>0</td>\n",
              "      <td>0</td>\n",
              "      <td>...</td>\n",
              "      <td>0</td>\n",
              "      <td>0</td>\n",
              "      <td>0</td>\n",
              "      <td>0</td>\n",
              "      <td>0</td>\n",
              "      <td>0</td>\n",
              "      <td>0</td>\n",
              "      <td>0</td>\n",
              "      <td>0</td>\n",
              "      <td>0</td>\n",
              "    </tr>\n",
              "    <tr>\n",
              "      <th>48</th>\n",
              "      <td>0</td>\n",
              "      <td>0</td>\n",
              "      <td>0</td>\n",
              "      <td>0</td>\n",
              "      <td>0</td>\n",
              "      <td>0</td>\n",
              "      <td>0</td>\n",
              "      <td>0</td>\n",
              "      <td>0</td>\n",
              "      <td>0</td>\n",
              "      <td>...</td>\n",
              "      <td>0</td>\n",
              "      <td>0</td>\n",
              "      <td>0</td>\n",
              "      <td>0</td>\n",
              "      <td>0</td>\n",
              "      <td>0</td>\n",
              "      <td>0</td>\n",
              "      <td>0</td>\n",
              "      <td>0</td>\n",
              "      <td>0</td>\n",
              "    </tr>\n",
              "    <tr>\n",
              "      <th>31</th>\n",
              "      <td>0</td>\n",
              "      <td>0</td>\n",
              "      <td>0</td>\n",
              "      <td>0</td>\n",
              "      <td>0</td>\n",
              "      <td>0</td>\n",
              "      <td>0</td>\n",
              "      <td>0</td>\n",
              "      <td>0</td>\n",
              "      <td>0</td>\n",
              "      <td>...</td>\n",
              "      <td>0</td>\n",
              "      <td>0</td>\n",
              "      <td>0</td>\n",
              "      <td>0</td>\n",
              "      <td>0</td>\n",
              "      <td>0</td>\n",
              "      <td>0</td>\n",
              "      <td>0</td>\n",
              "      <td>0</td>\n",
              "      <td>0</td>\n",
              "    </tr>\n",
              "  </tbody>\n",
              "</table>\n",
              "<p>132 rows × 154 columns</p>\n",
              "</div>\n",
              "      <button class=\"colab-df-convert\" onclick=\"convertToInteractive('df-3f2ee0e4-1814-4907-989a-3271012b63a9')\"\n",
              "              title=\"Convert this dataframe to an interactive table.\"\n",
              "              style=\"display:none;\">\n",
              "        \n",
              "  <svg xmlns=\"http://www.w3.org/2000/svg\" height=\"24px\"viewBox=\"0 0 24 24\"\n",
              "       width=\"24px\">\n",
              "    <path d=\"M0 0h24v24H0V0z\" fill=\"none\"/>\n",
              "    <path d=\"M18.56 5.44l.94 2.06.94-2.06 2.06-.94-2.06-.94-.94-2.06-.94 2.06-2.06.94zm-11 1L8.5 8.5l.94-2.06 2.06-.94-2.06-.94L8.5 2.5l-.94 2.06-2.06.94zm10 10l.94 2.06.94-2.06 2.06-.94-2.06-.94-.94-2.06-.94 2.06-2.06.94z\"/><path d=\"M17.41 7.96l-1.37-1.37c-.4-.4-.92-.59-1.43-.59-.52 0-1.04.2-1.43.59L10.3 9.45l-7.72 7.72c-.78.78-.78 2.05 0 2.83L4 21.41c.39.39.9.59 1.41.59.51 0 1.02-.2 1.41-.59l7.78-7.78 2.81-2.81c.8-.78.8-2.07 0-2.86zM5.41 20L4 18.59l7.72-7.72 1.47 1.35L5.41 20z\"/>\n",
              "  </svg>\n",
              "      </button>\n",
              "      \n",
              "  <style>\n",
              "    .colab-df-container {\n",
              "      display:flex;\n",
              "      flex-wrap:wrap;\n",
              "      gap: 12px;\n",
              "    }\n",
              "\n",
              "    .colab-df-convert {\n",
              "      background-color: #E8F0FE;\n",
              "      border: none;\n",
              "      border-radius: 50%;\n",
              "      cursor: pointer;\n",
              "      display: none;\n",
              "      fill: #1967D2;\n",
              "      height: 32px;\n",
              "      padding: 0 0 0 0;\n",
              "      width: 32px;\n",
              "    }\n",
              "\n",
              "    .colab-df-convert:hover {\n",
              "      background-color: #E2EBFA;\n",
              "      box-shadow: 0px 1px 2px rgba(60, 64, 67, 0.3), 0px 1px 3px 1px rgba(60, 64, 67, 0.15);\n",
              "      fill: #174EA6;\n",
              "    }\n",
              "\n",
              "    [theme=dark] .colab-df-convert {\n",
              "      background-color: #3B4455;\n",
              "      fill: #D2E3FC;\n",
              "    }\n",
              "\n",
              "    [theme=dark] .colab-df-convert:hover {\n",
              "      background-color: #434B5C;\n",
              "      box-shadow: 0px 1px 3px 1px rgba(0, 0, 0, 0.15);\n",
              "      filter: drop-shadow(0px 1px 2px rgba(0, 0, 0, 0.3));\n",
              "      fill: #FFFFFF;\n",
              "    }\n",
              "  </style>\n",
              "\n",
              "      <script>\n",
              "        const buttonEl =\n",
              "          document.querySelector('#df-3f2ee0e4-1814-4907-989a-3271012b63a9 button.colab-df-convert');\n",
              "        buttonEl.style.display =\n",
              "          google.colab.kernel.accessAllowed ? 'block' : 'none';\n",
              "\n",
              "        async function convertToInteractive(key) {\n",
              "          const element = document.querySelector('#df-3f2ee0e4-1814-4907-989a-3271012b63a9');\n",
              "          const dataTable =\n",
              "            await google.colab.kernel.invokeFunction('convertToInteractive',\n",
              "                                                     [key], {});\n",
              "          if (!dataTable) return;\n",
              "\n",
              "          const docLinkHtml = 'Like what you see? Visit the ' +\n",
              "            '<a target=\"_blank\" href=https://colab.research.google.com/notebooks/data_table.ipynb>data table notebook</a>'\n",
              "            + ' to learn more about interactive tables.';\n",
              "          element.innerHTML = '';\n",
              "          dataTable['output_type'] = 'display_data';\n",
              "          await google.colab.output.renderOutput(dataTable, element);\n",
              "          const docLink = document.createElement('div');\n",
              "          docLink.innerHTML = docLinkHtml;\n",
              "          element.appendChild(docLink);\n",
              "        }\n",
              "      </script>\n",
              "    </div>\n",
              "  </div>\n",
              "  "
            ]
          },
          "metadata": {},
          "execution_count": 7
        }
      ]
    },
    {
      "cell_type": "markdown",
      "source": [
        "#Adjacency Matrix"
      ],
      "metadata": {
        "id": "uFvblbIvfD5b"
      }
    },
    {
      "cell_type": "code",
      "source": [
        "# updating the values in the dataframe which will be a adjacency matrix and displaying it\n",
        "for i in range(0, len(df)):\n",
        "  r_val = df.loc[i, \"source\"]       #take out source node\n",
        "  c_val = df.loc[i, \"destination\"]  #take out destination node\n",
        "  matrix.at[r_val, c_val]=matrix.at[r_val, c_val] + 1           #increment that corresponding cells value in the matrix\n",
        "\n",
        "matrix"
      ],
      "metadata": {
        "colab": {
          "base_uri": "https://localhost:8080/",
          "height": 423
        },
        "id": "h4E57ticLgcM",
        "outputId": "9f704d9e-ebfd-4633-dfbf-8948fe960d59"
      },
      "execution_count": null,
      "outputs": [
        {
          "output_type": "execute_result",
          "data": {
            "text/plain": [
              "     164  123  147  75   145  163  169  144  119  171  ...  87   88   132  \\\n",
              "163   34   10   18    7    2    0    6    2   12    4  ...    0    0    0   \n",
              "134    4    4    3    3   10    6    3    3   20    3  ...    0    0    0   \n",
              "164    0   21   12    0    4   18    0    0    5    2  ...    0    0    0   \n",
              "147   12   12    0   24   15   15   10    2   26   22  ...    0    0    0   \n",
              "171   16   13   29    8  134    9   52   10   32    0  ...    0    0    0   \n",
              "..   ...  ...  ...  ...  ...  ...  ...  ...  ...  ...  ...  ...  ...  ...   \n",
              "103    0    0    0    0    0    0    0    0    0    0  ...   58    0   20   \n",
              "160    0    0    0    0    0    0    0    0    0    0  ...    0    0    0   \n",
              "143    0    0    0    0    0    0    0    0    0    0  ...    0    0    0   \n",
              "48     0    0    0    0    0    0    0    0    0    0  ...    0    0    1   \n",
              "31     0    0    0    0    0    0    0    0    0    0  ...    0    0    0   \n",
              "\n",
              "     103  67   1    160  48   31   20   \n",
              "163    0    0    0    0    0    0    0  \n",
              "134    0    0    0    0    0    0    0  \n",
              "164    0    0    0    0    0    0    0  \n",
              "147    0    0    0    0    0    0    0  \n",
              "171    0    0    0    0    0    0    0  \n",
              "..   ...  ...  ...  ...  ...  ...  ...  \n",
              "103    0    0    0    0   11    0    0  \n",
              "160    0    0    0    0    0    0    0  \n",
              "143    0    0    0    0    0    0    0  \n",
              "48    10    0    0    0    0    0    0  \n",
              "31     0    0    0    0    0    0    0  \n",
              "\n",
              "[132 rows x 154 columns]"
            ],
            "text/html": [
              "\n",
              "  <div id=\"df-fef50c75-9f9b-4fc4-9ae5-cc2675b85495\">\n",
              "    <div class=\"colab-df-container\">\n",
              "      <div>\n",
              "<style scoped>\n",
              "    .dataframe tbody tr th:only-of-type {\n",
              "        vertical-align: middle;\n",
              "    }\n",
              "\n",
              "    .dataframe tbody tr th {\n",
              "        vertical-align: top;\n",
              "    }\n",
              "\n",
              "    .dataframe thead th {\n",
              "        text-align: right;\n",
              "    }\n",
              "</style>\n",
              "<table border=\"1\" class=\"dataframe\">\n",
              "  <thead>\n",
              "    <tr style=\"text-align: right;\">\n",
              "      <th></th>\n",
              "      <th>164</th>\n",
              "      <th>123</th>\n",
              "      <th>147</th>\n",
              "      <th>75</th>\n",
              "      <th>145</th>\n",
              "      <th>163</th>\n",
              "      <th>169</th>\n",
              "      <th>144</th>\n",
              "      <th>119</th>\n",
              "      <th>171</th>\n",
              "      <th>...</th>\n",
              "      <th>87</th>\n",
              "      <th>88</th>\n",
              "      <th>132</th>\n",
              "      <th>103</th>\n",
              "      <th>67</th>\n",
              "      <th>1</th>\n",
              "      <th>160</th>\n",
              "      <th>48</th>\n",
              "      <th>31</th>\n",
              "      <th>20</th>\n",
              "    </tr>\n",
              "  </thead>\n",
              "  <tbody>\n",
              "    <tr>\n",
              "      <th>163</th>\n",
              "      <td>34</td>\n",
              "      <td>10</td>\n",
              "      <td>18</td>\n",
              "      <td>7</td>\n",
              "      <td>2</td>\n",
              "      <td>0</td>\n",
              "      <td>6</td>\n",
              "      <td>2</td>\n",
              "      <td>12</td>\n",
              "      <td>4</td>\n",
              "      <td>...</td>\n",
              "      <td>0</td>\n",
              "      <td>0</td>\n",
              "      <td>0</td>\n",
              "      <td>0</td>\n",
              "      <td>0</td>\n",
              "      <td>0</td>\n",
              "      <td>0</td>\n",
              "      <td>0</td>\n",
              "      <td>0</td>\n",
              "      <td>0</td>\n",
              "    </tr>\n",
              "    <tr>\n",
              "      <th>134</th>\n",
              "      <td>4</td>\n",
              "      <td>4</td>\n",
              "      <td>3</td>\n",
              "      <td>3</td>\n",
              "      <td>10</td>\n",
              "      <td>6</td>\n",
              "      <td>3</td>\n",
              "      <td>3</td>\n",
              "      <td>20</td>\n",
              "      <td>3</td>\n",
              "      <td>...</td>\n",
              "      <td>0</td>\n",
              "      <td>0</td>\n",
              "      <td>0</td>\n",
              "      <td>0</td>\n",
              "      <td>0</td>\n",
              "      <td>0</td>\n",
              "      <td>0</td>\n",
              "      <td>0</td>\n",
              "      <td>0</td>\n",
              "      <td>0</td>\n",
              "    </tr>\n",
              "    <tr>\n",
              "      <th>164</th>\n",
              "      <td>0</td>\n",
              "      <td>21</td>\n",
              "      <td>12</td>\n",
              "      <td>0</td>\n",
              "      <td>4</td>\n",
              "      <td>18</td>\n",
              "      <td>0</td>\n",
              "      <td>0</td>\n",
              "      <td>5</td>\n",
              "      <td>2</td>\n",
              "      <td>...</td>\n",
              "      <td>0</td>\n",
              "      <td>0</td>\n",
              "      <td>0</td>\n",
              "      <td>0</td>\n",
              "      <td>0</td>\n",
              "      <td>0</td>\n",
              "      <td>0</td>\n",
              "      <td>0</td>\n",
              "      <td>0</td>\n",
              "      <td>0</td>\n",
              "    </tr>\n",
              "    <tr>\n",
              "      <th>147</th>\n",
              "      <td>12</td>\n",
              "      <td>12</td>\n",
              "      <td>0</td>\n",
              "      <td>24</td>\n",
              "      <td>15</td>\n",
              "      <td>15</td>\n",
              "      <td>10</td>\n",
              "      <td>2</td>\n",
              "      <td>26</td>\n",
              "      <td>22</td>\n",
              "      <td>...</td>\n",
              "      <td>0</td>\n",
              "      <td>0</td>\n",
              "      <td>0</td>\n",
              "      <td>0</td>\n",
              "      <td>0</td>\n",
              "      <td>0</td>\n",
              "      <td>0</td>\n",
              "      <td>0</td>\n",
              "      <td>0</td>\n",
              "      <td>0</td>\n",
              "    </tr>\n",
              "    <tr>\n",
              "      <th>171</th>\n",
              "      <td>16</td>\n",
              "      <td>13</td>\n",
              "      <td>29</td>\n",
              "      <td>8</td>\n",
              "      <td>134</td>\n",
              "      <td>9</td>\n",
              "      <td>52</td>\n",
              "      <td>10</td>\n",
              "      <td>32</td>\n",
              "      <td>0</td>\n",
              "      <td>...</td>\n",
              "      <td>0</td>\n",
              "      <td>0</td>\n",
              "      <td>0</td>\n",
              "      <td>0</td>\n",
              "      <td>0</td>\n",
              "      <td>0</td>\n",
              "      <td>0</td>\n",
              "      <td>0</td>\n",
              "      <td>0</td>\n",
              "      <td>0</td>\n",
              "    </tr>\n",
              "    <tr>\n",
              "      <th>...</th>\n",
              "      <td>...</td>\n",
              "      <td>...</td>\n",
              "      <td>...</td>\n",
              "      <td>...</td>\n",
              "      <td>...</td>\n",
              "      <td>...</td>\n",
              "      <td>...</td>\n",
              "      <td>...</td>\n",
              "      <td>...</td>\n",
              "      <td>...</td>\n",
              "      <td>...</td>\n",
              "      <td>...</td>\n",
              "      <td>...</td>\n",
              "      <td>...</td>\n",
              "      <td>...</td>\n",
              "      <td>...</td>\n",
              "      <td>...</td>\n",
              "      <td>...</td>\n",
              "      <td>...</td>\n",
              "      <td>...</td>\n",
              "      <td>...</td>\n",
              "    </tr>\n",
              "    <tr>\n",
              "      <th>103</th>\n",
              "      <td>0</td>\n",
              "      <td>0</td>\n",
              "      <td>0</td>\n",
              "      <td>0</td>\n",
              "      <td>0</td>\n",
              "      <td>0</td>\n",
              "      <td>0</td>\n",
              "      <td>0</td>\n",
              "      <td>0</td>\n",
              "      <td>0</td>\n",
              "      <td>...</td>\n",
              "      <td>58</td>\n",
              "      <td>0</td>\n",
              "      <td>20</td>\n",
              "      <td>0</td>\n",
              "      <td>0</td>\n",
              "      <td>0</td>\n",
              "      <td>0</td>\n",
              "      <td>11</td>\n",
              "      <td>0</td>\n",
              "      <td>0</td>\n",
              "    </tr>\n",
              "    <tr>\n",
              "      <th>160</th>\n",
              "      <td>0</td>\n",
              "      <td>0</td>\n",
              "      <td>0</td>\n",
              "      <td>0</td>\n",
              "      <td>0</td>\n",
              "      <td>0</td>\n",
              "      <td>0</td>\n",
              "      <td>0</td>\n",
              "      <td>0</td>\n",
              "      <td>0</td>\n",
              "      <td>...</td>\n",
              "      <td>0</td>\n",
              "      <td>0</td>\n",
              "      <td>0</td>\n",
              "      <td>0</td>\n",
              "      <td>0</td>\n",
              "      <td>0</td>\n",
              "      <td>0</td>\n",
              "      <td>0</td>\n",
              "      <td>0</td>\n",
              "      <td>0</td>\n",
              "    </tr>\n",
              "    <tr>\n",
              "      <th>143</th>\n",
              "      <td>0</td>\n",
              "      <td>0</td>\n",
              "      <td>0</td>\n",
              "      <td>0</td>\n",
              "      <td>0</td>\n",
              "      <td>0</td>\n",
              "      <td>0</td>\n",
              "      <td>0</td>\n",
              "      <td>0</td>\n",
              "      <td>0</td>\n",
              "      <td>...</td>\n",
              "      <td>0</td>\n",
              "      <td>0</td>\n",
              "      <td>0</td>\n",
              "      <td>0</td>\n",
              "      <td>0</td>\n",
              "      <td>0</td>\n",
              "      <td>0</td>\n",
              "      <td>0</td>\n",
              "      <td>0</td>\n",
              "      <td>0</td>\n",
              "    </tr>\n",
              "    <tr>\n",
              "      <th>48</th>\n",
              "      <td>0</td>\n",
              "      <td>0</td>\n",
              "      <td>0</td>\n",
              "      <td>0</td>\n",
              "      <td>0</td>\n",
              "      <td>0</td>\n",
              "      <td>0</td>\n",
              "      <td>0</td>\n",
              "      <td>0</td>\n",
              "      <td>0</td>\n",
              "      <td>...</td>\n",
              "      <td>0</td>\n",
              "      <td>0</td>\n",
              "      <td>1</td>\n",
              "      <td>10</td>\n",
              "      <td>0</td>\n",
              "      <td>0</td>\n",
              "      <td>0</td>\n",
              "      <td>0</td>\n",
              "      <td>0</td>\n",
              "      <td>0</td>\n",
              "    </tr>\n",
              "    <tr>\n",
              "      <th>31</th>\n",
              "      <td>0</td>\n",
              "      <td>0</td>\n",
              "      <td>0</td>\n",
              "      <td>0</td>\n",
              "      <td>0</td>\n",
              "      <td>0</td>\n",
              "      <td>0</td>\n",
              "      <td>0</td>\n",
              "      <td>0</td>\n",
              "      <td>0</td>\n",
              "      <td>...</td>\n",
              "      <td>0</td>\n",
              "      <td>0</td>\n",
              "      <td>0</td>\n",
              "      <td>0</td>\n",
              "      <td>0</td>\n",
              "      <td>0</td>\n",
              "      <td>0</td>\n",
              "      <td>0</td>\n",
              "      <td>0</td>\n",
              "      <td>0</td>\n",
              "    </tr>\n",
              "  </tbody>\n",
              "</table>\n",
              "<p>132 rows × 154 columns</p>\n",
              "</div>\n",
              "      <button class=\"colab-df-convert\" onclick=\"convertToInteractive('df-fef50c75-9f9b-4fc4-9ae5-cc2675b85495')\"\n",
              "              title=\"Convert this dataframe to an interactive table.\"\n",
              "              style=\"display:none;\">\n",
              "        \n",
              "  <svg xmlns=\"http://www.w3.org/2000/svg\" height=\"24px\"viewBox=\"0 0 24 24\"\n",
              "       width=\"24px\">\n",
              "    <path d=\"M0 0h24v24H0V0z\" fill=\"none\"/>\n",
              "    <path d=\"M18.56 5.44l.94 2.06.94-2.06 2.06-.94-2.06-.94-.94-2.06-.94 2.06-2.06.94zm-11 1L8.5 8.5l.94-2.06 2.06-.94-2.06-.94L8.5 2.5l-.94 2.06-2.06.94zm10 10l.94 2.06.94-2.06 2.06-.94-2.06-.94-.94-2.06-.94 2.06-2.06.94z\"/><path d=\"M17.41 7.96l-1.37-1.37c-.4-.4-.92-.59-1.43-.59-.52 0-1.04.2-1.43.59L10.3 9.45l-7.72 7.72c-.78.78-.78 2.05 0 2.83L4 21.41c.39.39.9.59 1.41.59.51 0 1.02-.2 1.41-.59l7.78-7.78 2.81-2.81c.8-.78.8-2.07 0-2.86zM5.41 20L4 18.59l7.72-7.72 1.47 1.35L5.41 20z\"/>\n",
              "  </svg>\n",
              "      </button>\n",
              "      \n",
              "  <style>\n",
              "    .colab-df-container {\n",
              "      display:flex;\n",
              "      flex-wrap:wrap;\n",
              "      gap: 12px;\n",
              "    }\n",
              "\n",
              "    .colab-df-convert {\n",
              "      background-color: #E8F0FE;\n",
              "      border: none;\n",
              "      border-radius: 50%;\n",
              "      cursor: pointer;\n",
              "      display: none;\n",
              "      fill: #1967D2;\n",
              "      height: 32px;\n",
              "      padding: 0 0 0 0;\n",
              "      width: 32px;\n",
              "    }\n",
              "\n",
              "    .colab-df-convert:hover {\n",
              "      background-color: #E2EBFA;\n",
              "      box-shadow: 0px 1px 2px rgba(60, 64, 67, 0.3), 0px 1px 3px 1px rgba(60, 64, 67, 0.15);\n",
              "      fill: #174EA6;\n",
              "    }\n",
              "\n",
              "    [theme=dark] .colab-df-convert {\n",
              "      background-color: #3B4455;\n",
              "      fill: #D2E3FC;\n",
              "    }\n",
              "\n",
              "    [theme=dark] .colab-df-convert:hover {\n",
              "      background-color: #434B5C;\n",
              "      box-shadow: 0px 1px 3px 1px rgba(0, 0, 0, 0.15);\n",
              "      filter: drop-shadow(0px 1px 2px rgba(0, 0, 0, 0.3));\n",
              "      fill: #FFFFFF;\n",
              "    }\n",
              "  </style>\n",
              "\n",
              "      <script>\n",
              "        const buttonEl =\n",
              "          document.querySelector('#df-fef50c75-9f9b-4fc4-9ae5-cc2675b85495 button.colab-df-convert');\n",
              "        buttonEl.style.display =\n",
              "          google.colab.kernel.accessAllowed ? 'block' : 'none';\n",
              "\n",
              "        async function convertToInteractive(key) {\n",
              "          const element = document.querySelector('#df-fef50c75-9f9b-4fc4-9ae5-cc2675b85495');\n",
              "          const dataTable =\n",
              "            await google.colab.kernel.invokeFunction('convertToInteractive',\n",
              "                                                     [key], {});\n",
              "          if (!dataTable) return;\n",
              "\n",
              "          const docLinkHtml = 'Like what you see? Visit the ' +\n",
              "            '<a target=\"_blank\" href=https://colab.research.google.com/notebooks/data_table.ipynb>data table notebook</a>'\n",
              "            + ' to learn more about interactive tables.';\n",
              "          element.innerHTML = '';\n",
              "          dataTable['output_type'] = 'display_data';\n",
              "          await google.colab.output.renderOutput(dataTable, element);\n",
              "          const docLink = document.createElement('div');\n",
              "          docLink.innerHTML = docLinkHtml;\n",
              "          element.appendChild(docLink);\n",
              "        }\n",
              "      </script>\n",
              "    </div>\n",
              "  </div>\n",
              "  "
            ]
          },
          "metadata": {},
          "execution_count": 8
        }
      ]
    },
    {
      "cell_type": "markdown",
      "source": [
        "#Adjacency List"
      ],
      "metadata": {
        "id": "Y8Nnz5Bue9if"
      }
    },
    {
      "cell_type": "code",
      "source": [
        "# calculating the adjacecny list and displaying it\n",
        "adj_list ={}\n",
        "for i in src:\n",
        "  adj_list[i] = []          #create an empty adjacency list initially\n",
        "\n",
        "for i in src:\n",
        "  for j in des:\n",
        "    if matrix.at[i,j]!=0:   # for any non zero value we add that node to our adjacency list\n",
        "      adj_list[i].append(j)\n",
        "\n",
        "for k, v in adj_list.items():     #display the result\n",
        "  print(str(k) + ' ===> ' + str(v))"
      ],
      "metadata": {
        "id": "5_2pSd79Tf7j",
        "colab": {
          "base_uri": "https://localhost:8080/"
        },
        "outputId": "d624152a-cbcd-4491-a37b-b89ba552df7f"
      },
      "execution_count": null,
      "outputs": [
        {
          "output_type": "stream",
          "name": "stdout",
          "text": [
            "163 ===> [164, 123, 147, 75, 145, 169, 144, 119, 171, 122, 28, 134, 0, 70, 161, 114, 98]\n",
            "134 ===> [164, 123, 147, 75, 145, 163, 169, 144, 119, 171, 122, 28, 0, 70, 161, 114, 98]\n",
            "164 ===> [123, 147, 145, 163, 119, 171, 122, 28, 134, 70]\n",
            "147 ===> [164, 123, 75, 145, 163, 169, 144, 119, 171, 122, 28, 134, 0, 70, 161, 114, 98, 159, 62, 81]\n",
            "171 ===> [164, 123, 147, 75, 145, 163, 169, 144, 119, 122, 28, 134, 0, 70, 161, 114, 128, 98, 159, 25, 62, 81]\n",
            "169 ===> [147, 75, 163, 144, 171, 122]\n",
            "122 ===> [164, 123, 147, 75, 145, 163, 169, 144, 119, 171, 28, 134, 0, 70, 161, 114, 98]\n",
            "144 ===> [164, 123, 147, 75, 145, 163, 169, 119, 171, 122, 28, 134, 0, 70, 161, 114, 128, 98, 159]\n",
            "145 ===> [164, 123, 147, 75, 163, 169, 119, 171, 122, 28, 134, 0, 70, 161, 98, 81]\n",
            "75 ===> [164, 147, 145, 163, 119, 171, 122, 28, 134, 98]\n",
            "28 ===> [164, 123, 147, 75, 145, 163, 169, 144, 119, 171, 122, 134, 0, 70, 161, 114, 128, 98, 159, 81]\n",
            "123 ===> [164, 147, 75, 163, 119, 171, 122, 28, 134, 0, 98, 81]\n",
            "119 ===> [164, 123, 147, 75, 163, 171, 122, 28, 134, 0, 70, 98]\n",
            "114 ===> [147, 119, 122, 28, 161]\n",
            "0 ===> [164, 147, 163, 144, 119, 28, 134]\n",
            "98 ===> [164, 123, 147, 75, 145, 163, 122, 28, 134, 62]\n",
            "161 ===> [164, 28]\n",
            "70 ===> [164, 123, 147, 145, 119, 171, 28, 134, 98]\n",
            "62 ===> [147, 145]\n",
            "81 ===> [145, 28, 0]\n",
            "130 ===> [165, 82, 52, 137, 5, 14, 60, 127, 35, 66, 39, 47, 3, 86, 64, 33, 141, 13, 22]\n",
            "137 ===> [165, 82, 52, 130, 5, 60, 127, 35, 66, 154, 39, 104, 47, 3, 86, 64, 141, 92, 83, 22]\n",
            "127 ===> [165, 82, 52, 137, 130, 5, 14, 35, 66, 154, 39, 104, 47, 3, 86, 33, 72, 141, 92, 138, 53]\n",
            "35 ===> [165, 82, 52, 137, 130, 5, 14, 60, 127, 39, 104, 3, 86, 72, 141, 92]\n",
            "86 ===> [165, 82, 52, 137, 130, 5, 14, 60, 127, 35, 66, 154, 39, 104, 47, 3, 64, 33, 72, 141, 92, 79, 6, 53, 22]\n",
            "165 ===> [82, 52, 137, 130, 5, 14, 60, 127, 35, 39, 104, 47, 3, 86, 64, 33, 141, 92]\n",
            "33 ===> [82, 52, 137, 130, 5, 14, 66, 154, 39, 104, 47, 3, 86, 64, 141, 92, 125, 138, 133, 53, 22]\n",
            "154 ===> [165, 82, 52, 137, 60, 127, 66, 3, 86, 33, 72, 92, 53, 22]\n",
            "66 ===> [52, 137, 130, 60, 127, 154, 39, 47, 3, 86, 33, 92, 115, 133, 53, 22]\n",
            "141 ===> [165, 82, 52, 137, 130, 5, 14, 60, 127, 35, 66, 39, 104, 47, 86, 64, 33, 72, 92, 125]\n",
            "82 ===> [165, 52, 137, 130, 14, 60, 127, 35, 66, 154, 39, 104, 47, 3, 86, 64, 33, 141, 92, 138, 6, 83, 53]\n",
            "64 ===> [165, 82, 137, 130, 5, 14, 35, 66, 39, 104, 47, 3, 86, 33, 141, 92, 138, 83]\n",
            "3 ===> [165, 82, 52, 137, 130, 5, 14, 60, 127, 35, 66, 154, 39, 104, 47, 86, 64, 33, 72, 141, 92, 138, 6, 22]\n",
            "39 ===> [165, 82, 52, 137, 130, 5, 60, 127, 35, 66, 154, 104, 47, 3, 86, 64, 33, 72, 141, 92, 53, 22]\n",
            "52 ===> [165, 82, 137, 130, 14, 60, 127, 35, 66, 154, 39, 104, 47, 3, 86, 64, 33, 141, 92, 115, 22]\n",
            "47 ===> [165, 82, 137, 130, 5, 14, 66, 154, 39, 104, 3, 86, 33, 72, 141, 92, 125, 22]\n",
            "104 ===> [165, 82, 52, 137, 130, 14, 35, 66, 154, 39, 47, 3, 86, 64, 72, 141, 92]\n",
            "60 ===> [165, 82, 52, 137, 130, 86, 92]\n",
            "5 ===> [165, 82, 52, 137, 130, 14, 60, 127, 35, 39, 47, 3, 86, 64, 33, 72, 141, 83]\n",
            "72 ===> [165, 52, 5, 14, 127, 35, 66, 154, 39, 104, 47, 3, 86, 92, 53]\n",
            "92 ===> [165, 82, 52, 137, 5, 14, 60, 127, 35, 66, 154, 39, 104, 47, 3, 86, 64, 33, 72, 141, 138, 115, 6, 53, 22]\n",
            "14 ===> [165, 82, 52, 130, 5, 60, 127, 35, 154, 39, 104, 47, 3, 86, 141, 92, 6]\n",
            "115 ===> [52, 66]\n",
            "138 ===> [86]\n",
            "53 ===> [82, 52, 127, 66, 154, 39, 86, 33, 92, 22]\n",
            "22 ===> [165, 52, 137, 66, 154, 39, 104, 47, 3, 86, 33, 92, 53]\n",
            "23 ===> [156, 80, 7, 155, 36, 27, 126, 46, 69, 51, 152, 44, 11, 71, 12, 140, 49, 136, 158, 42, 139, 26, 41]\n",
            "7 ===> [156, 80, 155, 36, 27, 126, 46, 51, 152, 44, 11, 71, 12, 23, 140, 93, 162, 136, 41, 112]\n",
            "140 ===> [156, 80, 7, 155, 36, 27, 126, 46, 69, 51, 152, 44, 11, 71, 23, 93]\n",
            "27 ===> [156, 80, 7, 155, 36, 46, 51, 152, 11, 71, 12, 23, 140, 26, 41]\n",
            "71 ===> [80, 7, 155, 36, 27, 126, 46, 11, 23, 140, 41]\n",
            "46 ===> [156, 80, 7, 155, 27, 126, 69, 152, 44, 11, 71, 23, 26, 41]\n",
            "80 ===> [156, 7, 155, 36, 27, 51, 152, 44, 11, 71, 23, 140, 158, 42, 139, 41]\n",
            "51 ===> [156, 80, 7, 155, 27, 126, 152, 44, 23, 139, 41]\n",
            "156 ===> [80, 7, 155, 36, 27, 126, 46, 51, 152, 44, 11, 71, 23, 140, 162, 158, 42, 139, 41]\n",
            "77 ===> [7, 44, 23]\n",
            "155 ===> [156, 80, 7, 36, 27, 126, 46, 69, 51, 152, 44, 11, 71, 12, 23, 140, 93, 136, 42, 139, 26, 41]\n",
            "44 ===> [156, 80, 7, 155, 27, 126, 46, 51, 152, 11, 23, 49, 42, 112]\n",
            "36 ===> [156, 80, 7, 155, 27, 46, 51, 44, 11, 71, 12, 23, 140, 26, 41]\n",
            "152 ===> [156, 80, 7, 155, 27, 126, 46, 51, 44, 71, 23]\n",
            "126 ===> [156, 80, 7, 155, 27, 46, 152, 44, 11, 71, 12, 23, 158, 42, 41]\n",
            "11 ===> [156, 80, 7, 155, 36, 27, 126, 46, 69, 51, 152, 44, 71, 12, 23, 140, 26, 41]\n",
            "84 ===> [44]\n",
            "49 ===> [7, 23, 139]\n",
            "42 ===> [156, 155, 126, 44, 11, 23, 158, 139, 26, 41]\n",
            "158 ===> [156, 80, 155, 126, 152, 44, 23, 42, 139, 26, 41]\n",
            "26 ===> [155, 27, 46, 11, 23, 158, 42, 139, 41]\n",
            "139 ===> [156, 80, 46, 51, 11, 23, 158, 42, 26, 41]\n",
            "41 ===> [156, 80, 7, 155, 36, 27, 126, 46, 51, 152, 44, 11, 71, 12, 23, 158, 42, 139, 26]\n",
            "58 ===> [73, 45, 37, 150, 117, 99, 55, 61, 90]\n",
            "73 ===> [45, 58, 37, 150, 117, 55, 61, 90]\n",
            "150 ===> [73, 45, 58, 37, 117, 55]\n",
            "37 ===> [73, 45, 58, 150, 117, 99, 55, 105, 90]\n",
            "117 ===> [73, 45, 58, 37, 150, 99, 55]\n",
            "55 ===> [73, 45, 58, 37, 150, 117, 99, 90, 4]\n",
            "45 ===> [73, 58, 37, 150, 117, 99, 55, 90]\n",
            "99 ===> [73, 45, 58, 37, 117, 105]\n",
            "102 ===> [58]\n",
            "61 ===> [73, 58, 117]\n",
            "90 ===> [73, 45, 37, 55]\n",
            "24 ===> [153, 91, 167, 78, 30, 2, 142, 146, 65, 97, 63, 76, 157, 10, 40, 43, 68, 94, 106, 59, 57, 18, 148, 15, 124, 54, 74, 107, 116, 120, 21, 101]\n",
            "68 ===> [153, 91, 167, 78, 24, 2, 146, 65, 97, 63, 76, 157, 10, 43, 94, 113, 148, 166, 124, 107, 116, 96]\n",
            "65 ===> [153, 91, 167, 78, 24, 2, 146, 97, 63, 76, 157, 10, 43, 68, 94, 106, 57, 148, 170, 116]\n",
            "91 ===> [153, 167, 78, 24, 30, 2, 142, 146, 65, 97, 63, 76, 157, 10, 40, 43, 68, 94, 106, 59, 57, 18, 118, 113, 148, 15, 124, 54, 74, 116, 21, 101]\n",
            "40 ===> [153, 91, 167, 24, 30, 2, 142, 146, 10]\n",
            "57 ===> [153, 91, 167, 24, 2, 142, 146, 65, 97, 63, 76, 157, 10, 43, 68, 94, 106, 148, 166, 74, 116, 21]\n",
            "146 ===> [153, 91, 167, 78, 24, 30, 2, 142, 65, 97, 63, 76, 157, 10, 43, 68, 94, 59, 57, 18, 148, 15, 124, 54, 74, 116, 96]\n",
            "2 ===> [153, 91, 167, 24, 30, 142, 146, 65, 63, 157, 10, 40, 68, 59, 18, 148, 15, 170, 124, 54, 107, 21]\n",
            "63 ===> [153, 91, 167, 78, 24, 30, 2, 142, 146, 65, 97, 76, 157, 10, 43, 68, 94, 106, 59, 57, 118, 113, 148, 166, 15, 124, 54, 74, 110, 107, 116, 96]\n",
            "142 ===> [153, 91, 167, 24, 30, 2, 146, 97, 63, 76, 157, 10, 40, 43, 59, 15, 124, 54]\n",
            "76 ===> [153, 91, 167, 78, 24, 146, 65, 97, 63, 157, 10, 43, 68, 94, 106, 113, 170, 116]\n",
            "157 ===> [91, 167, 78, 24, 2, 142, 146, 65, 97, 63, 76, 10, 43, 68, 94, 57, 148, 166, 74, 107, 116, 21]\n",
            "10 ===> [153, 91, 167, 78, 24, 30, 2, 142, 146, 65, 97, 63, 76, 157, 40, 43, 68, 94, 59, 57, 18, 118, 15, 124, 54, 74, 107, 29, 96]\n",
            "97 ===> [153, 91, 167, 78, 24, 30, 2, 142, 146, 65, 63, 76, 157, 10, 43, 68, 94, 57, 113, 148, 170, 110, 116]\n",
            "153 ===> [91, 167, 24, 30, 2, 142, 146, 65, 97, 63, 76, 10, 40, 43, 68, 94, 106, 57, 148, 54, 74, 116, 21, 101]\n",
            "78 ===> [153, 91, 167, 24, 146, 65, 97, 63, 76, 157, 10, 68, 94, 148, 170, 116, 96, 21]\n",
            "94 ===> [153, 91, 167, 78, 24, 30, 2, 146, 65, 97, 63, 76, 157, 10, 40, 43, 106, 59, 57, 18, 118, 148, 124, 54, 116, 21, 108]\n",
            "167 ===> [153, 91, 78, 24, 2, 142, 146, 65, 97, 63, 76, 157, 10, 40, 43, 68, 94, 59, 148, 74, 107, 21]\n",
            "43 ===> [153, 91, 167, 78, 24, 146, 65, 97, 63, 76, 157, 10, 68, 94, 106, 57, 113, 148, 170, 54, 74]\n",
            "30 ===> [153, 91, 167, 24, 2, 142, 146, 97, 63, 10, 94, 15, 124, 54, 74, 21]\n",
            "32 ===> [151]\n",
            "148 ===> [153, 91, 167, 78, 24, 30, 2, 146, 65, 97, 63, 76, 157, 10, 43, 68, 94, 57, 170, 124, 74, 116, 21]\n",
            "151 ===> [91, 24, 65, 63, 76, 43]\n",
            "18 ===> [153, 91, 24, 2, 146, 54]\n",
            "15 ===> [91, 167, 24, 30, 2, 142, 146, 63, 10, 124, 21]\n",
            "170 ===> [78, 2, 65, 97, 63, 76, 157, 43, 148, 116]\n",
            "124 ===> [91, 167, 24, 30, 2, 142, 146, 63, 10, 40, 94, 59, 15, 54, 21, 101]\n",
            "54 ===> [153, 91, 167, 24, 30, 2, 142, 146, 97, 63, 10, 40, 43, 94, 59, 18, 124]\n",
            "74 ===> [153, 91, 167, 24, 30, 146, 63, 157, 43, 68, 94, 57, 148, 107, 96]\n",
            "50 ===> [97]\n",
            "107 ===> [167, 24, 2, 146, 63, 157, 10, 68, 74]\n",
            "116 ===> [153, 167, 146, 65, 97, 63, 76, 157, 68, 57, 148, 170, 96]\n",
            "100 ===> [65]\n",
            "96 ===> [78, 63, 10, 68, 74]\n",
            "19 ===> [65]\n",
            "21 ===> [91, 78]\n",
            "101 ===> [91, 24, 30, 2, 15, 124, 54, 21]\n",
            "135 ===> [168, 56, 89, 111, 9, 85, 121, 87, 132, 103, 48]\n",
            "56 ===> [168, 135, 89, 111, 9, 85, 121, 87, 88, 132, 103, 67, 1, 160, 48, 31]\n",
            "111 ===> [168, 135, 56, 89, 9, 85, 87, 88, 132, 103, 48]\n",
            "168 ===> [135, 56, 89, 111, 9, 85, 121, 87, 132, 103, 48, 20]\n",
            "9 ===> [168, 135, 56, 89, 111, 85, 87, 132, 103, 48]\n",
            "85 ===> [168, 135, 56, 89, 111, 121, 87, 103]\n",
            "121 ===> [168, 135, 56, 89, 111, 85, 132]\n",
            "132 ===> [168, 135, 56, 89, 111, 9, 85, 121, 87, 103, 48]\n",
            "87 ===> [168, 135, 56, 89, 111, 9, 85, 132, 103]\n",
            "89 ===> [56, 111]\n",
            "103 ===> [168, 135, 56, 89, 111, 9, 85, 87, 132, 48]\n",
            "160 ===> [56]\n",
            "143 ===> [9]\n",
            "48 ===> [168, 135, 56, 111, 9, 85, 132, 103]\n",
            "31 ===> [56]\n"
          ]
        }
      ]
    },
    {
      "cell_type": "markdown",
      "source": [
        "#Number of nodes"
      ],
      "metadata": {
        "id": "o55BTmBNe37m"
      }
    },
    {
      "cell_type": "code",
      "source": [
        "# taking union of set(src) and set(des) which will give the unique nodes in the graph \n",
        "nodes = set(src).union(set(des))\n",
        "len(nodes)"
      ],
      "metadata": {
        "colab": {
          "base_uri": "https://localhost:8080/"
        },
        "id": "vn7WQ3snX3XL",
        "outputId": "7f321890-748e-48c8-b4f5-660dec96c326"
      },
      "execution_count": null,
      "outputs": [
        {
          "output_type": "execute_result",
          "data": {
            "text/plain": [
              "162"
            ]
          },
          "metadata": {},
          "execution_count": 10
        }
      ]
    },
    {
      "cell_type": "markdown",
      "source": [
        "#Number of Edges"
      ],
      "metadata": {
        "id": "bqXogysjgPtx"
      }
    },
    {
      "cell_type": "code",
      "source": [
        "count=0\n",
        "for i in src:\n",
        "  for j in des:\n",
        "    if matrix.at[i,j] != 0:    #take sum of number of mail sent from eevery participant in case of temporal edges\n",
        "      count = count+matrix.at[i,j]\n",
        "\n",
        "print(\"Temporal Edges ===> \"+ str(count))"
      ],
      "metadata": {
        "colab": {
          "base_uri": "https://localhost:8080/"
        },
        "id": "fWwlqKtkYbLb",
        "outputId": "1b81ad81-60a1-437f-a2c1-c43b5ea8a4ef"
      },
      "execution_count": null,
      "outputs": [
        {
          "output_type": "stream",
          "name": "stdout",
          "text": [
            "Temporal Edges ===> 46772\n"
          ]
        }
      ]
    },
    {
      "cell_type": "code",
      "source": [
        "count=0\n",
        "for i in src:\n",
        "  for j in des:\n",
        "    if matrix.at[i,j] != 0:   #take sum of all the non zero elements from the matrix for static graph\n",
        "      count = count+1\n",
        "\n",
        "print(\"Edges in static graph ===> \"+ str(count))"
      ],
      "metadata": {
        "colab": {
          "base_uri": "https://localhost:8080/"
        },
        "id": "oQYE3R2WfoA9",
        "outputId": "495601c6-16f9-4479-b692-aafb7602da95"
      },
      "execution_count": null,
      "outputs": [
        {
          "output_type": "stream",
          "name": "stdout",
          "text": [
            "Edges in static graph ===> 1772\n"
          ]
        }
      ]
    },
    {
      "cell_type": "markdown",
      "source": [
        "#Avg In-degree"
      ],
      "metadata": {
        "id": "rvC8uccomBlA"
      }
    },
    {
      "cell_type": "code",
      "source": [
        "in_degree={}\n",
        "for i in des:\n",
        "  in_degree[i] = sum(matrix[i])    #perform sum column wise to find number of incoming edges on a particular node\n",
        "\n",
        "val = in_degree.values()\n",
        "avg_in_degree = sum(val) / len(nodes)   #take average by dividing with total number of nodes\n",
        "print(\"Average In-degree ===> \" + str(avg_in_degree))"
      ],
      "metadata": {
        "colab": {
          "base_uri": "https://localhost:8080/"
        },
        "id": "c0WrIZXUjhuk",
        "outputId": "55aa6c28-ba37-4e92-f802-a7020c72625a"
      },
      "execution_count": null,
      "outputs": [
        {
          "output_type": "stream",
          "name": "stdout",
          "text": [
            "Average In-degree ===> 288.71604938271605\n"
          ]
        }
      ]
    },
    {
      "cell_type": "code",
      "source": [
        "len(in_degree)"
      ],
      "metadata": {
        "colab": {
          "base_uri": "https://localhost:8080/"
        },
        "id": "80AyWNQ7q60H",
        "outputId": "49a12f02-fb8b-45da-9e6a-296a64086a5e"
      },
      "execution_count": null,
      "outputs": [
        {
          "output_type": "execute_result",
          "data": {
            "text/plain": [
              "154"
            ]
          },
          "metadata": {},
          "execution_count": 14
        }
      ]
    },
    {
      "cell_type": "code",
      "source": [
        "nodes - in_degree.keys()       # these are the nodes which does not have any incoming edge"
      ],
      "metadata": {
        "colab": {
          "base_uri": "https://localhost:8080/"
        },
        "id": "4C6bYtCbsPNU",
        "outputId": "c755b788-5c24-47fe-c044-08f5af8abf32"
      },
      "execution_count": null,
      "outputs": [
        {
          "output_type": "execute_result",
          "data": {
            "text/plain": [
              "{19, 32, 50, 77, 84, 100, 102, 143}"
            ]
          },
          "metadata": {},
          "execution_count": 15
        }
      ]
    },
    {
      "cell_type": "markdown",
      "source": [
        "Note that the average indegree gives you an idea of the typical number of incoming edges for a node in the graph. A high average indegree suggests that the graph is highly interconnected, while a low average indegree suggests that the graph is more sparse."
      ],
      "metadata": {
        "id": "JcPqZfDWHzSI"
      }
    },
    {
      "cell_type": "markdown",
      "source": [
        "#Avg. Out-Degree"
      ],
      "metadata": {
        "id": "xsn0PMu3mEZv"
      }
    },
    {
      "cell_type": "code",
      "source": [
        "out_degree={}\n",
        "res = matrix.sum(axis = 1)   #perform sum row wise to find number of incoming edges on a particular node\n",
        "\n",
        "for i in src:\n",
        "  out_degree[i] = res[i]\n",
        "\n",
        "val = out_degree.values()\n",
        "avg_out_degree = sum(val) / len(nodes)    #take average by dividing with total number of nodes\n",
        "print(\"Average Out-degree ===> \" + str(avg_out_degree))"
      ],
      "metadata": {
        "id": "4BuR3prDmHl1",
        "colab": {
          "base_uri": "https://localhost:8080/"
        },
        "outputId": "f6038ff8-5558-4463-fabf-03c14e873d64"
      },
      "execution_count": null,
      "outputs": [
        {
          "output_type": "stream",
          "name": "stdout",
          "text": [
            "Average Out-degree ===> 288.71604938271605\n"
          ]
        }
      ]
    },
    {
      "cell_type": "markdown",
      "source": [
        "Note that the average outdegree gives you an idea of the typical number of outgoing edges for a node in the graph. A high average outdegree suggests that the graph is highly connected, while a low average outdegree suggests that the graph is more sparse."
      ],
      "metadata": {
        "id": "3t1KNSeZJEtm"
      }
    },
    {
      "cell_type": "markdown",
      "source": [
        "#Node with Max In-degree"
      ],
      "metadata": {
        "id": "rqgiIaj8mWpK"
      }
    },
    {
      "cell_type": "code",
      "source": [
        "max_in_degree = max(zip(in_degree.values(), in_degree.keys()))      #from all nodes find node with max in degree \n",
        "print(\"Node with max In-degree ===> \" + str(max_in_degree[1]))    #node name\n",
        "print(\"The in-degree of node with max in-degree ===> \" + str(max_in_degree[0]))    #max indegree of that node\n",
        "\n",
        "#Reference :  https://www.geeksforgeeks.org/python-get-key-with-maximum-value-in-dictionary/ "
      ],
      "metadata": {
        "id": "vvt4R8SAmYKU",
        "colab": {
          "base_uri": "https://localhost:8080/"
        },
        "outputId": "fb4cd6e8-5895-4f63-def4-54af936f3919"
      },
      "execution_count": null,
      "outputs": [
        {
          "output_type": "stream",
          "name": "stdout",
          "text": [
            "Node with max In-degree ===> 24\n",
            "The in-degree of node with max in-degree ===> 3825\n"
          ]
        }
      ]
    },
    {
      "cell_type": "markdown",
      "source": [
        "#Node with Max out-degree"
      ],
      "metadata": {
        "id": "SX_jI-msmYZa"
      }
    },
    {
      "cell_type": "code",
      "source": [
        "max_out_degree = max(zip(out_degree.values(), out_degree.keys()))    #from all nodes find node with max out degree \n",
        "print(\"Node with max Out-degree ===> \" + str(max_out_degree[1])) #node name\n",
        "print(\"The out-degree of node with max out-degree ===> \" + str(max_out_degree[0]))    #max outdegree of that node"
      ],
      "metadata": {
        "id": "zJGJ1H-XmbvK",
        "colab": {
          "base_uri": "https://localhost:8080/"
        },
        "outputId": "524aa023-b908-4dd9-954e-4f1f536f1480"
      },
      "execution_count": null,
      "outputs": [
        {
          "output_type": "stream",
          "name": "stdout",
          "text": [
            "Node with max Out-degree ===> 24\n",
            "The out-degree of node with max out-degree ===> 4769\n"
          ]
        }
      ]
    },
    {
      "cell_type": "markdown",
      "source": [
        "#The density of the network"
      ],
      "metadata": {
        "id": "uAPEmiitmgZO"
      }
    },
    {
      "cell_type": "code",
      "source": [
        "#reference :   http://users.cecs.anu.edu.au/~xlx/teaching/css2013/network-density.html#:~:text=The%20Density%20of%20a%20network,of%20edges%20in%20the%20graph.\n",
        "\n",
        "vertices = len(nodes)\n",
        "edges = count\n",
        "\n",
        "density_of_nw = edges / (vertices *(vertices -1))\n",
        "print(\"Density of network ===>  \" + str(density_of_nw))"
      ],
      "metadata": {
        "id": "u4vnU5OOmhXy",
        "colab": {
          "base_uri": "https://localhost:8080/"
        },
        "outputId": "18d89614-fc42-49a0-c170-c3017a59afee"
      },
      "execution_count": null,
      "outputs": [
        {
          "output_type": "stream",
          "name": "stdout",
          "text": [
            "Density of network ===>  0.06793957518595199\n"
          ]
        }
      ]
    },
    {
      "cell_type": "markdown",
      "source": [
        "The density of a network can range from 0 (for a completely disconnected graph) to 1 (for a fully connected graph). A higher density indicates a more tightly connected network, while a lower density suggests a more sparse or loosely connected network."
      ],
      "metadata": {
        "id": "QjxCvmnPMWMZ"
      }
    },
    {
      "cell_type": "markdown",
      "source": [
        "#degree distribution of the network"
      ],
      "metadata": {
        "id": "WoRKjDGL8fIZ"
      }
    },
    {
      "cell_type": "markdown",
      "source": [
        "####Plot for out-degree distribution"
      ],
      "metadata": {
        "id": "OJoG986avt_q"
      }
    },
    {
      "cell_type": "code",
      "source": [
        "#reference :   https://mathinsight.org/degree_distribution#:~:text=By%20counting%20how%20many%20nodes,%2C%20and%20k10%3D1.\n",
        "\n",
        "plt.hist(list(in_degree.values()),bins=100,range=[1,4000],color='green')\n",
        "plt.xlabel('In-degree')\n",
        "plt.ylabel('Number of nodes')\n",
        "plt.show()"
      ],
      "metadata": {
        "id": "65X1QEj-8gsD",
        "colab": {
          "base_uri": "https://localhost:8080/",
          "height": 449
        },
        "outputId": "e6f96550-f577-4a8a-ec8b-2f62c2af4f12"
      },
      "execution_count": null,
      "outputs": [
        {
          "output_type": "display_data",
          "data": {
            "text/plain": [
              "<Figure size 640x480 with 1 Axes>"
            ],
            "image/png": "[encoded data removed]"
          },
          "metadata": {}
        }
      ]
    },
    {
      "cell_type": "markdown",
      "source": [
        "####Plot for out-degree distribution"
      ],
      "metadata": {
        "id": "9qYbHvjKvoY4"
      }
    },
    {
      "cell_type": "code",
      "source": [
        "plt.hist(list(out_degree.values()),bins=100,range=[10,5000],color='green')\n",
        "plt.xlabel('Out-degree')\n",
        "plt.ylabel('Number of nodes')\n",
        "plt.show()"
      ],
      "metadata": {
        "colab": {
          "base_uri": "https://localhost:8080/",
          "height": 449
        },
        "id": "M04JJ9zUO_16",
        "outputId": "bd699a67-bf82-410c-95c5-2bfa74383a64"
      },
      "execution_count": null,
      "outputs": [
        {
          "output_type": "display_data",
          "data": {
            "text/plain": [
              "<Figure size 640x480 with 1 Axes>"
            ],
            "image/png": "[encoded data removed]"
          },
          "metadata": {}
        }
      ]
    },
    {
      "cell_type": "markdown",
      "source": [
        "#local clustering coefficient"
      ],
      "metadata": {
        "id": "y4XjoqhtNuOw"
      }
    },
    {
      "cell_type": "code",
      "source": [
        "print(nodes)        # displaying all the nodes from the graph "
      ],
      "metadata": {
        "colab": {
          "base_uri": "https://localhost:8080/"
        },
        "id": "IjCERPHtdL6k",
        "outputId": "0c30bf70-4ae9-4ec1-cedd-3aab3f4c9d1b"
      },
      "execution_count": null,
      "outputs": [
        {
          "output_type": "stream",
          "name": "stdout",
          "text": [
            "{0, 1, 2, 3, 4, 5, 6, 7, 9, 10, 11, 12, 13, 14, 15, 18, 19, 20, 21, 22, 23, 24, 25, 26, 27, 28, 29, 30, 31, 32, 33, 35, 36, 37, 39, 40, 41, 42, 43, 44, 45, 46, 47, 48, 49, 50, 51, 52, 53, 54, 55, 56, 57, 58, 59, 60, 61, 62, 63, 64, 65, 66, 67, 68, 69, 70, 71, 72, 73, 74, 75, 76, 77, 78, 79, 80, 81, 82, 83, 84, 85, 86, 87, 88, 89, 90, 91, 92, 93, 94, 96, 97, 98, 99, 100, 101, 102, 103, 104, 105, 106, 107, 108, 110, 111, 112, 113, 114, 115, 116, 117, 118, 119, 120, 121, 122, 123, 124, 125, 126, 127, 128, 130, 132, 133, 134, 135, 136, 137, 138, 139, 140, 141, 142, 143, 144, 145, 146, 147, 148, 150, 151, 152, 153, 154, 155, 156, 157, 158, 159, 160, 161, 162, 163, 164, 165, 166, 167, 168, 169, 170, 171}\n"
          ]
        }
      ]
    },
    {
      "cell_type": "code",
      "source": [
        "len(nodes)    # displaying the length of all nodes from the graph"
      ],
      "metadata": {
        "colab": {
          "base_uri": "https://localhost:8080/"
        },
        "id": "JwmzoCMTdSpN",
        "outputId": "87f7856c-2df6-4068-927c-fcc027b7de87"
      },
      "execution_count": null,
      "outputs": [
        {
          "output_type": "execute_result",
          "data": {
            "text/plain": [
              "162"
            ]
          },
          "metadata": {},
          "execution_count": 23
        }
      ]
    },
    {
      "cell_type": "code",
      "source": [
        "# calculating the local clustering coefficient for every node in the graph\n",
        "# For calculating this, we have considered the neighbour nodes as the outgoing edges\n",
        "local_clustering_coeff = {}\n",
        "for node in nodes:\n",
        "  df_temp = df[df['source'] == node]    \n",
        "  neighbor_nodes = set(df_temp['destination'])   # Taking the neighbor nodes of the current node\n",
        "  \n",
        "  adjacent_pairs = 0\n",
        "\n",
        "  #from this we will obtain the adjacent pairs\n",
        "  for neighbor_node in neighbor_nodes:\n",
        "    df_neighbor = df[df['source'] == neighbor_node]\n",
        "    for neighbor in set(df_neighbor['destination']):\n",
        "      if neighbor in neighbor_nodes:\n",
        "        adjacent_pairs += 1\n",
        "\n",
        "  #these are the possible pairs\n",
        "  possible_pairs = len(neighbor_nodes) * (len(neighbor_nodes) - 1)\n",
        "  if possible_pairs == 0 :\n",
        "    local_clustering_coeff[node] = 0\n",
        "  else:\n",
        "    local_clustering_coeff[node] = adjacent_pairs / possible_pairs          #divide with adjacent pairs with possible pairs to obtain local clustering coeff of that node"
      ],
      "metadata": {
        "id": "ccGPZkJhNye5"
      },
      "execution_count": null,
      "outputs": []
    },
    {
      "cell_type": "code",
      "source": [
        "local_clustering_coeff"
      ],
      "metadata": {
        "id": "gYdMeYKPsPkR",
        "outputId": "02ce9246-f77e-4db6-dd61-e8087054de51",
        "colab": {
          "base_uri": "https://localhost:8080/"
        }
      },
      "execution_count": null,
      "outputs": [
        {
          "output_type": "execute_result",
          "data": {
            "text/plain": [
              "{0: 0.9523809523809523,\n",
              " 1: 0,\n",
              " 2: 0.5541125541125541,\n",
              " 3: 0.6539855072463768,\n",
              " 4: 0,\n",
              " 5: 0.738562091503268,\n",
              " 6: 0,\n",
              " 7: 0.5052631578947369,\n",
              " 9: 0.8666666666666667,\n",
              " 10: 0.5024630541871922,\n",
              " 11: 0.6633986928104575,\n",
              " 12: 0,\n",
              " 13: 0,\n",
              " 14: 0.7573529411764706,\n",
              " 15: 0.8636363636363636,\n",
              " 18: 1.0,\n",
              " 19: 0,\n",
              " 20: 0,\n",
              " 21: 1.0,\n",
              " 22: 0.8589743589743589,\n",
              " 23: 0.4980237154150198,\n",
              " 24: 0.4879032258064516,\n",
              " 25: 0,\n",
              " 26: 0.7638888888888888,\n",
              " 27: 0.7333333333333333,\n",
              " 28: 0.5078947368421053,\n",
              " 29: 0,\n",
              " 30: 0.7708333333333334,\n",
              " 31: 0,\n",
              " 32: 0,\n",
              " 33: 0.5880952380952381,\n",
              " 35: 0.8583333333333333,\n",
              " 36: 0.7523809523809524,\n",
              " 37: 0.6388888888888888,\n",
              " 39: 0.7337662337662337,\n",
              " 40: 0.9861111111111112,\n",
              " 41: 0.6549707602339181,\n",
              " 42: 0.8111111111111111,\n",
              " 43: 0.6928571428571428,\n",
              " 44: 0.6373626373626373,\n",
              " 45: 0.8035714285714286,\n",
              " 46: 0.7417582417582418,\n",
              " 47: 0.7026143790849673,\n",
              " 48: 0.9642857142857143,\n",
              " 49: 0.6666666666666666,\n",
              " 50: 0,\n",
              " 51: 0.8545454545454545,\n",
              " 52: 0.7214285714285714,\n",
              " 53: 0.9222222222222223,\n",
              " 54: 0.75,\n",
              " 55: 0.6388888888888888,\n",
              " 56: 0.3625,\n",
              " 57: 0.6796536796536796,\n",
              " 58: 0.6805555555555556,\n",
              " 59: 0,\n",
              " 60: 0.9523809523809523,\n",
              " 61: 1.0,\n",
              " 62: 1.0,\n",
              " 63: 0.4566532258064516,\n",
              " 64: 0.7124183006535948,\n",
              " 65: 0.7842105263157895,\n",
              " 66: 0.6291666666666667,\n",
              " 67: 0,\n",
              " 68: 0.6298701298701299,\n",
              " 69: 0,\n",
              " 70: 0.9305555555555556,\n",
              " 71: 0.9090909090909091,\n",
              " 72: 0.7952380952380952,\n",
              " 73: 0.7142857142857143,\n",
              " 74: 0.7476190476190476,\n",
              " 75: 0.9555555555555556,\n",
              " 76: 0.7189542483660131,\n",
              " 77: 1.0,\n",
              " 78: 0.7418300653594772,\n",
              " 79: 0,\n",
              " 80: 0.7166666666666667,\n",
              " 81: 0.8333333333333334,\n",
              " 82: 0.6027667984189723,\n",
              " 83: 0,\n",
              " 84: 0,\n",
              " 85: 0.8214285714285714,\n",
              " 86: 0.6183333333333333,\n",
              " 87: 0.8888888888888888,\n",
              " 88: 0,\n",
              " 89: 1.0,\n",
              " 90: 1.0,\n",
              " 91: 0.4798387096774194,\n",
              " 92: 0.58,\n",
              " 93: 0,\n",
              " 94: 0.5142450142450142,\n",
              " 96: 0.8,\n",
              " 97: 0.6679841897233202,\n",
              " 98: 0.8,\n",
              " 99: 0.7,\n",
              " 100: 0,\n",
              " 101: 0.8392857142857143,\n",
              " 102: 0,\n",
              " 103: 0.8555555555555555,\n",
              " 104: 0.8272058823529411,\n",
              " 105: 0,\n",
              " 106: 0,\n",
              " 107: 0.9444444444444444,\n",
              " 108: 0,\n",
              " 110: 0,\n",
              " 111: 0.7,\n",
              " 112: 0,\n",
              " 113: 0,\n",
              " 114: 0.8,\n",
              " 115: 1.0,\n",
              " 116: 0.7628205128205128,\n",
              " 117: 0.9047619047619048,\n",
              " 118: 0,\n",
              " 119: 0.8484848484848485,\n",
              " 120: 0,\n",
              " 121: 0.8809523809523809,\n",
              " 122: 0.6764705882352942,\n",
              " 123: 0.7878787878787878,\n",
              " 124: 0.6875,\n",
              " 125: 0,\n",
              " 126: 0.7333333333333333,\n",
              " 127: 0.7261904761904762,\n",
              " 128: 0,\n",
              " 130: 0.7046783625730995,\n",
              " 132: 0.8,\n",
              " 133: 0,\n",
              " 134: 0.6764705882352942,\n",
              " 135: 0.7909090909090909,\n",
              " 136: 0,\n",
              " 137: 0.7105263157894737,\n",
              " 138: 0,\n",
              " 139: 0.7555555555555555,\n",
              " 140: 0.6916666666666667,\n",
              " 141: 0.718421052631579,\n",
              " 142: 0.7222222222222222,\n",
              " 143: 0,\n",
              " 144: 0.5701754385964912,\n",
              " 145: 0.6666666666666666,\n",
              " 146: 0.6125356125356125,\n",
              " 147: 0.5131578947368421,\n",
              " 148: 0.7213438735177866,\n",
              " 150: 1.0,\n",
              " 151: 1.0,\n",
              " 152: 0.8909090909090909,\n",
              " 153: 0.6159420289855072,\n",
              " 154: 0.7692307692307693,\n",
              " 155: 0.5086580086580087,\n",
              " 156: 0.6461988304093568,\n",
              " 157: 0.6688311688311688,\n",
              " 158: 0.7909090909090909,\n",
              " 159: 0,\n",
              " 160: 0,\n",
              " 161: 1.0,\n",
              " 162: 0,\n",
              " 163: 0.6764705882352942,\n",
              " 164: 0.9444444444444444,\n",
              " 165: 0.8529411764705882,\n",
              " 166: 0,\n",
              " 167: 0.6731601731601732,\n",
              " 168: 0.6590909090909091,\n",
              " 169: 0.9666666666666667,\n",
              " 170: 0.8444444444444444,\n",
              " 171: 0.43506493506493504}"
            ]
          },
          "metadata": {},
          "execution_count": 28
        }
      ]
    },
    {
      "cell_type": "code",
      "source": [
        "local_clustering_coeff_freq = {}            # updating the frequency of local clustering coefficient values \n",
        "for coefficient in local_clustering_coeff.values():\n",
        "  if coefficient != 0:\n",
        "    if coefficient in local_clustering_coeff_freq:\n",
        "      local_clustering_coeff_freq[coefficient] += 1\n",
        "    else:\n",
        "      local_clustering_coeff_freq[coefficient] = 1"
      ],
      "metadata": {
        "id": "OPQ0un-EsSxT"
      },
      "execution_count": null,
      "outputs": []
    },
    {
      "cell_type": "code",
      "source": [
        "local_clustering_coeff_freq         # displaying the local clustering coefficient value and its frequency "
      ],
      "metadata": {
        "colab": {
          "base_uri": "https://localhost:8080/"
        },
        "id": "uPhNHDNd4Kre",
        "outputId": "7f6bbeaa-b686-4e24-f3cd-6531e6e66bd8"
      },
      "execution_count": null,
      "outputs": [
        {
          "output_type": "execute_result",
          "data": {
            "text/plain": [
              "{0.9523809523809523: 2,\n",
              " 0.5541125541125541: 1,\n",
              " 0.6539855072463768: 1,\n",
              " 0.738562091503268: 1,\n",
              " 0.5052631578947369: 1,\n",
              " 0.8666666666666667: 1,\n",
              " 0.5024630541871922: 1,\n",
              " 0.6633986928104575: 1,\n",
              " 0.7573529411764706: 1,\n",
              " 0.8636363636363636: 1,\n",
              " 1.0: 11,\n",
              " 0.8589743589743589: 1,\n",
              " 0.4980237154150198: 1,\n",
              " 0.4879032258064516: 1,\n",
              " 0.7638888888888888: 1,\n",
              " 0.7333333333333333: 2,\n",
              " 0.5078947368421053: 1,\n",
              " 0.7708333333333334: 1,\n",
              " 0.5880952380952381: 1,\n",
              " 0.8583333333333333: 1,\n",
              " 0.7523809523809524: 1,\n",
              " 0.6388888888888888: 2,\n",
              " 0.7337662337662337: 1,\n",
              " 0.9861111111111112: 1,\n",
              " 0.6549707602339181: 1,\n",
              " 0.8111111111111111: 1,\n",
              " 0.6928571428571428: 1,\n",
              " 0.6373626373626373: 1,\n",
              " 0.8035714285714286: 1,\n",
              " 0.7417582417582418: 1,\n",
              " 0.7026143790849673: 1,\n",
              " 0.9642857142857143: 1,\n",
              " 0.6666666666666666: 2,\n",
              " 0.8545454545454545: 1,\n",
              " 0.7214285714285714: 1,\n",
              " 0.9222222222222223: 1,\n",
              " 0.75: 1,\n",
              " 0.3625: 1,\n",
              " 0.6796536796536796: 1,\n",
              " 0.6805555555555556: 1,\n",
              " 0.4566532258064516: 1,\n",
              " 0.7124183006535948: 1,\n",
              " 0.7842105263157895: 1,\n",
              " 0.6291666666666667: 1,\n",
              " 0.6298701298701299: 1,\n",
              " 0.9305555555555556: 1,\n",
              " 0.9090909090909091: 1,\n",
              " 0.7952380952380952: 1,\n",
              " 0.7142857142857143: 1,\n",
              " 0.7476190476190476: 1,\n",
              " 0.9555555555555556: 1,\n",
              " 0.7189542483660131: 1,\n",
              " 0.7418300653594772: 1,\n",
              " 0.7166666666666667: 1,\n",
              " 0.8333333333333334: 1,\n",
              " 0.6027667984189723: 1,\n",
              " 0.8214285714285714: 1,\n",
              " 0.6183333333333333: 1,\n",
              " 0.8888888888888888: 1,\n",
              " 0.4798387096774194: 1,\n",
              " 0.58: 1,\n",
              " 0.5142450142450142: 1,\n",
              " 0.8: 4,\n",
              " 0.6679841897233202: 1,\n",
              " 0.7: 2,\n",
              " 0.8392857142857143: 1,\n",
              " 0.8555555555555555: 1,\n",
              " 0.8272058823529411: 1,\n",
              " 0.9444444444444444: 2,\n",
              " 0.7628205128205128: 1,\n",
              " 0.9047619047619048: 1,\n",
              " 0.8484848484848485: 1,\n",
              " 0.8809523809523809: 1,\n",
              " 0.6764705882352942: 3,\n",
              " 0.7878787878787878: 1,\n",
              " 0.6875: 1,\n",
              " 0.7261904761904762: 1,\n",
              " 0.7046783625730995: 1,\n",
              " 0.7909090909090909: 2,\n",
              " 0.7105263157894737: 1,\n",
              " 0.7555555555555555: 1,\n",
              " 0.6916666666666667: 1,\n",
              " 0.718421052631579: 1,\n",
              " 0.7222222222222222: 1,\n",
              " 0.5701754385964912: 1,\n",
              " 0.6125356125356125: 1,\n",
              " 0.5131578947368421: 1,\n",
              " 0.7213438735177866: 1,\n",
              " 0.8909090909090909: 1,\n",
              " 0.6159420289855072: 1,\n",
              " 0.7692307692307693: 1,\n",
              " 0.5086580086580087: 1,\n",
              " 0.6461988304093568: 1,\n",
              " 0.6688311688311688: 1,\n",
              " 0.8529411764705882: 1,\n",
              " 0.6731601731601732: 1,\n",
              " 0.6590909090909091: 1,\n",
              " 0.9666666666666667: 1,\n",
              " 0.8444444444444444: 1,\n",
              " 0.43506493506493504: 1}"
            ]
          },
          "metadata": {},
          "execution_count": 30
        }
      ]
    },
    {
      "cell_type": "code",
      "source": [
        "# plotting the local clustering coefficient and frequency of LCC \n",
        "coeff = list(local_clustering_coeff_freq.keys())\n",
        "freq = list(local_clustering_coeff_freq.values())\n",
        "fig = plt.figure(figsize=(12, 4))\n",
        "plt.bar(coeff, freq, color='green')\n",
        "plt.title(\"Clustering coefficient distribution of the network\")\n",
        "plt.xlabel(\"Local Clustering Coefficient(LCC)\")\n",
        "plt.ylabel(\"Frequency of LCC\")\n",
        "plt.show()"
      ],
      "metadata": {
        "colab": {
          "base_uri": "https://localhost:8080/",
          "height": 410
        },
        "id": "1dZtEVQN4OEp",
        "outputId": "6371c5c3-9438-4754-d7a1-4a60c9724e61"
      },
      "execution_count": null,
      "outputs": [
        {
          "output_type": "display_data",
          "data": {
            "text/plain": [
              "<Figure size 1200x400 with 1 Axes>"
            ],
            "image/png": "[encoded data removed]"
          },
          "metadata": {}
        }
      ]
    },
    {
      "cell_type": "code",
      "source": [],
      "metadata": {
        "id": "udh-lq9K4egp"
      },
      "execution_count": null,
      "outputs": []
    }
  ]
}